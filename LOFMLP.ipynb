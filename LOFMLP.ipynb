{
 "cells": [
  {
   "cell_type": "code",
   "execution_count": 1,
   "id": "c584610b",
   "metadata": {},
   "outputs": [],
   "source": [
    "import pandas as pd\n",
    "import numpy as np\n",
    "import seaborn as sns\n",
    "import matplotlib.pyplot as plt\n",
    "from sklearn.model_selection import train_test_split, StratifiedKFold\n",
    "from sklearn.neighbors import LocalOutlierFactor\n",
    "from sklearn.preprocessing import StandardScaler\n",
    "from sklearn.metrics import accuracy_score, precision_score, recall_score, f1_score, roc_auc_score, average_precision_score, confusion_matrix, matthews_corrcoef, roc_curve, auc, precision_recall_curve, make_scorer\n",
    "from scipy.stats import gmean\n",
    "from imblearn.metrics import geometric_mean_score\n",
    "import tensorflow as tf\n",
    "from tensorflow.keras import backend as K\n",
    "from tensorflow.keras.models import Sequential\n",
    "from tensorflow.keras.layers import Dense, Dropout\n",
    "from tensorflow.keras.wrappers.scikit_learn import KerasClassifier\n",
    "from sklearn.utils.class_weight import compute_class_weight\n",
    "from skopt import BayesSearchCV\n",
    "from skopt.space import Real, Categorical, Integer"
   ]
  },
  {
   "cell_type": "markdown",
   "id": "a84d2214",
   "metadata": {},
   "source": [
    "## Loading, Scaling and Spltting the data\n",
    "\n",
    "Since the entire dataset was PCA encoded and \"Time\" and \"Amount\" columns were left as it is, after loading the dataset, we scale only the \"Time\" and \"Amount\" columns in our dataset using StandardScaler() to maintain consistency."
   ]
  },
  {
   "cell_type": "code",
   "execution_count": 2,
   "id": "cb2cad46",
   "metadata": {},
   "outputs": [],
   "source": [
    "# Loading the data\n",
    "df = pd.read_csv(r\"C:\\Users\\Sana\\OneDrive\\Desktop\\creditcard.csv\")\n",
    "\n",
    "# Scaling \"time\" and \"amount\" columns:\n",
    "scaler = StandardScaler()\n",
    "df[['Time', 'Amount']] = scaler.fit_transform(df[['Time', 'Amount']])"
   ]
  },
  {
   "cell_type": "code",
   "execution_count": 3,
   "id": "9f6b8291",
   "metadata": {},
   "outputs": [],
   "source": [
    "# Splitting the data into training, validation and testing sets in 60-20-20 ratio repectively\n",
    "X = df.drop('Class',axis = 1)\n",
    "y = df['Class']\n",
    "X_train, X_temp, y_train, y_temp = train_test_split(X, y, stratify = y, test_size=0.4,random_state=42)\n",
    "X_val, X_test, y_val, y_test = train_test_split(X_temp, y_temp, test_size=0.5, random_state=42)"
   ]
  },
  {
   "cell_type": "code",
   "execution_count": 4,
   "id": "a934a4a3",
   "metadata": {},
   "outputs": [
    {
     "data": {
      "text/plain": [
       "((170884, 30), (56961, 30), (56962, 30), (170884,), (56961,), (56962,))"
      ]
     },
     "execution_count": 4,
     "metadata": {},
     "output_type": "execute_result"
    }
   ],
   "source": [
    "X_train.shape, X_val.shape, X_test.shape, y_train.shape, y_val.shape, y_test.shape"
   ]
  },
  {
   "cell_type": "markdown",
   "id": "7dd51d89",
   "metadata": {},
   "source": [
    "## Local Outlier Factor Model\n",
    "\n",
    "We first create an LOF model as our base model. We extract outlier scores from it and then append them to our original input datasets."
   ]
  },
  {
   "cell_type": "code",
   "execution_count": 5,
   "id": "39d9c7ec",
   "metadata": {},
   "outputs": [],
   "source": [
    "# Local Outlier Factor model\n",
    "lof = LocalOutlierFactor(contamination='auto', novelty=True)"
   ]
  },
  {
   "cell_type": "code",
   "execution_count": 6,
   "id": "14de7e43",
   "metadata": {},
   "outputs": [
    {
     "data": {
      "text/plain": [
       "LocalOutlierFactor(novelty=True)"
      ]
     },
     "execution_count": 6,
     "metadata": {},
     "output_type": "execute_result"
    }
   ],
   "source": [
    "lof.fit(X_train)"
   ]
  },
  {
   "cell_type": "code",
   "execution_count": 7,
   "id": "812cf345",
   "metadata": {},
   "outputs": [
    {
     "data": {
      "text/plain": [
       "0    170589\n",
       "1       295\n",
       "Name: Class, dtype: int64"
      ]
     },
     "execution_count": 7,
     "metadata": {},
     "output_type": "execute_result"
    }
   ],
   "source": [
    "y_train.value_counts()"
   ]
  },
  {
   "cell_type": "code",
   "execution_count": 8,
   "id": "438fc71c",
   "metadata": {},
   "outputs": [
    {
     "name": "stderr",
     "output_type": "stream",
     "text": [
      "C:\\Users\\Sana\\anaconda3\\envs\\rstudio\\lib\\site-packages\\sklearn\\base.py:451: UserWarning: X does not have valid feature names, but LocalOutlierFactor was fitted with feature names\n",
      "  \"X does not have valid feature names, but\"\n",
      "C:\\Users\\Sana\\anaconda3\\envs\\rstudio\\lib\\site-packages\\sklearn\\base.py:451: UserWarning: X does not have valid feature names, but LocalOutlierFactor was fitted with feature names\n",
      "  \"X does not have valid feature names, but\"\n",
      "C:\\Users\\Sana\\anaconda3\\envs\\rstudio\\lib\\site-packages\\sklearn\\base.py:451: UserWarning: X does not have valid feature names, but LocalOutlierFactor was fitted with feature names\n",
      "  \"X does not have valid feature names, but\"\n"
     ]
    }
   ],
   "source": [
    "# Getting the outlier scores\n",
    "train_scores_lof = -lof.decision_function(X_train)\n",
    "val_scores_lof = -lof.decision_function(X_val)\n",
    "test_scores_lof = -lof.decision_function(X_test)"
   ]
  },
  {
   "cell_type": "code",
   "execution_count": 9,
   "id": "83b1e099",
   "metadata": {},
   "outputs": [],
   "source": [
    "# Combining input features with outlier scores\n",
    "train_data_with_scores_lof = np.hstack((X_train, train_scores_lof.reshape(-1, 1)))\n",
    "val_data_with_scores_lof = np.hstack((X_val, val_scores_lof.reshape(-1, 1)))\n",
    "test_data_with_scores_lof = np.hstack((X_test, test_scores_lof.reshape(-1, 1)))"
   ]
  },
  {
   "cell_type": "code",
   "execution_count": 10,
   "id": "b144b28e",
   "metadata": {},
   "outputs": [],
   "source": [
    "train_df = pd.DataFrame(train_data_with_scores_lof, columns=list(X.columns) + ['lof_score'])\n",
    "val_df = pd.DataFrame(val_data_with_scores_lof, columns=list(X.columns) + ['lof_score'])\n",
    "test_df = pd.DataFrame(test_data_with_scores_lof, columns=list(X.columns) + ['lof_score'])"
   ]
  },
  {
   "cell_type": "markdown",
   "id": "4362483c",
   "metadata": {},
   "source": [
    "## Evalution Metrics\n",
    "\n",
    "We make use of TensorFlow with Keras to build our MLP model. We need to define a custom function for Geometric Mean score, F1 score, and Matthews Correlation Coefficient since they are not directly available as built-in metrics in TensorFlow."
   ]
  },
  {
   "cell_type": "code",
   "execution_count": 11,
   "id": "8c1388af",
   "metadata": {},
   "outputs": [
    {
     "data": {
      "text/plain": [
       "['accuracy',\n",
       " <tensorflow.python.keras.metrics.Precision at 0x2946a156b00>,\n",
       " <tensorflow.python.keras.metrics.Recall at 0x2946a16f1d0>,\n",
       " <function __main__.f1_score(y_true, y_pred)>,\n",
       " <tensorflow.python.keras.metrics.AUC at 0x2946a16f748>,\n",
       " <tensorflow.python.keras.metrics.AUC at 0x2946a193ba8>,\n",
       " <function __main__.matthews_correlation(y_true, y_pred)>,\n",
       " <function __main__.g_mean(y_true, y_pred)>]"
      ]
     },
     "execution_count": 11,
     "metadata": {},
     "output_type": "execute_result"
    }
   ],
   "source": [
    "# F1 Score\n",
    "def f1_score(y_true, y_pred):\n",
    "    precision = tf.keras.metrics.Precision()(y_true, y_pred)\n",
    "    recall = tf.keras.metrics.Recall()(y_true, y_pred)\n",
    "    return 2 * ((precision * recall) / (precision + recall + K.epsilon()))\n",
    "\n",
    "# Matthews correlation coefficient (MCC)\n",
    "def matthews_correlation(y_true, y_pred):\n",
    "    y_pred_pos = K.round(K.clip(y_pred, 0, 1))\n",
    "    y_pred_neg = 1 - y_pred_pos\n",
    "\n",
    "    y_pos = K.round(K.clip(y_true, 0, 1))\n",
    "    y_neg = 1 - y_pos\n",
    "\n",
    "    tp = K.sum(y_pos * y_pred_pos)\n",
    "    tn = K.sum(y_neg * y_pred_neg)\n",
    "\n",
    "    fp = K.sum(y_neg * y_pred_pos)\n",
    "    fn = K.sum(y_pos * y_pred_neg)\n",
    "\n",
    "    numerator = (tp * tn - fp * fn)\n",
    "    denominator = K.sqrt((tp + fp) * (tp + fn) * (tn + fp) * (tn + fn))\n",
    "\n",
    "    return numerator / (denominator + K.epsilon())\n",
    "\n",
    "# G-Mean: Geometric mean of specificity and sensitivity\n",
    "def g_mean(y_true, y_pred):\n",
    "    sensitivity = tf.keras.metrics.Recall()(y_true, y_pred)\n",
    "    specificity = tf.keras.metrics.Recall()(1-y_true, 1-y_pred)\n",
    "    return K.sqrt(sensitivity * specificity)\n",
    "\n",
    "# List of metrics\n",
    "metrics = ['accuracy', tf.keras.metrics.Precision(name='precision'), tf.keras.metrics.Recall(name='recall'), \n",
    "           f1_score, tf.keras.metrics.AUC(name='roc_auc'), tf.keras.metrics.AUC(name='auprc', curve='PR'), \n",
    "           matthews_correlation, g_mean]\n",
    "\n",
    "metrics"
   ]
  },
  {
   "cell_type": "markdown",
   "id": "4d79436c",
   "metadata": {},
   "source": [
    "## MLP Model\n",
    "\n",
    "We define an MLP model having a sequential architecture containing an input layer with dimension \"train_df.shape[1]\" and 64 neurons, a hidden layer with 64 neurons and an output layer with 1 neuron. This model also consists of two Dropout layers which helps in preventing overfitting. \n",
    "\n",
    "\"train_df.shape[1]\" is nothing but the number of columns in train_df.\n",
    "\n",
    "We utilise activation function 'relu' for our input layer and hidden layers and 'sigmoid' for output layer. Activation function introduces non-linearity to the model which helps the model capture more complex patterns. \n",
    "\n",
    "We use 'adam' as our optimizer and 'binary_crossentropy' as the loss function during the training process as it is apt for binary classification problems. All the metrics specified in 'metrics' list are used to check the model's performance. "
   ]
  },
  {
   "cell_type": "code",
   "execution_count": 12,
   "id": "95a06ff8",
   "metadata": {},
   "outputs": [],
   "source": [
    "def mlp_model(hidden_units_1=64, hidden_units_2=64, dropout_rate=0.5):\n",
    "    model = tf.keras.Sequential([\n",
    "        tf.keras.layers.Dense(hidden_units_1, activation='relu', input_dim=train_df.shape[1]),\n",
    "        tf.keras.layers.Dropout(dropout_rate),\n",
    "        tf.keras.layers.Dense(hidden_units_2, activation='relu'),\n",
    "        tf.keras.layers.Dropout(dropout_rate),\n",
    "        tf.keras.layers.Dense(1, activation='sigmoid')\n",
    "    ])\n",
    "    model.compile(optimizer='adam', loss='binary_crossentropy', metrics=metrics)\n",
    "    return model"
   ]
  },
  {
   "cell_type": "markdown",
   "id": "134e6f93",
   "metadata": {},
   "source": [
    "We 'wrap' the model in KerasClassifier in order to use scikit learn for hyperparameter tuning and stratified k-fold cross validation later. "
   ]
  },
  {
   "cell_type": "code",
   "execution_count": 13,
   "id": "a6f90a3f",
   "metadata": {},
   "outputs": [],
   "source": [
    "# Wrapping the model with KerasClassifier\n",
    "model = KerasClassifier(build_fn=mlp_model, epochs=10, batch_size=256, verbose=0)"
   ]
  },
  {
   "cell_type": "markdown",
   "id": "f81c7110",
   "metadata": {},
   "source": [
    "We perform hyperparameter tuning using BayesSearchCV which uses Bayesian optimization to search for the best parameters from the search space provided. \n",
    "\n",
    "To incorporate cost sensitive learning, we also define weights so that minority class is given more importance. "
   ]
  },
  {
   "cell_type": "code",
   "execution_count": 14,
   "id": "0c968a44",
   "metadata": {},
   "outputs": [],
   "source": [
    "search_space = {\n",
    "    'hidden_units_1': Integer(32, 256),\n",
    "    'hidden_units_2': Integer(32, 256),\n",
    "    'dropout_rate': Real(0.2, 0.7)\n",
    "}\n",
    "\n",
    "stratified_kfold = StratifiedKFold(n_splits=5, shuffle=True, random_state=42)"
   ]
  },
  {
   "cell_type": "code",
   "execution_count": 15,
   "id": "e43b5995",
   "metadata": {},
   "outputs": [],
   "source": [
    "# initialising BayesSearchCV\n",
    "bayes_search = BayesSearchCV(model, search_spaces=search_space, n_iter=15, scoring='precision', cv=stratified_kfold, n_jobs=1, verbose=1, random_state=42)"
   ]
  },
  {
   "cell_type": "code",
   "execution_count": 16,
   "id": "35441488",
   "metadata": {},
   "outputs": [],
   "source": [
    "# Calculate class weights\n",
    "weights = compute_class_weight('balanced', classes=[0, 1], y=y_train)\n",
    "class_weights = {0: weights[0], 1: weights[1]}\n",
    "\n",
    "# Create sample weights for training data using NumPy indexing\n",
    "sample_weights = np.array([class_weights[label] for label in y_train])"
   ]
  },
  {
   "cell_type": "code",
   "execution_count": 17,
   "id": "33da1f10",
   "metadata": {},
   "outputs": [
    {
     "data": {
      "text/plain": [
       "array([0.50086465, 0.50086465, 0.50086465, ..., 0.50086465, 0.50086465,\n",
       "       0.50086465])"
      ]
     },
     "execution_count": 17,
     "metadata": {},
     "output_type": "execute_result"
    }
   ],
   "source": [
    "sample_weights"
   ]
  },
  {
   "cell_type": "code",
   "execution_count": 18,
   "id": "c0f18163",
   "metadata": {},
   "outputs": [
    {
     "name": "stdout",
     "output_type": "stream",
     "text": [
      "Fitting 5 folds for each of 1 candidates, totalling 5 fits\n",
      "WARNING:tensorflow:Falling back from v2 loop because of error: Failed to find data adapter that can handle input: <class 'pandas.core.frame.DataFrame'>, <class 'NoneType'>\n",
      "WARNING:tensorflow:Falling back from v2 loop because of error: Failed to find data adapter that can handle input: <class 'pandas.core.frame.DataFrame'>, <class 'NoneType'>\n",
      "WARNING:tensorflow:Falling back from v2 loop because of error: Failed to find data adapter that can handle input: <class 'pandas.core.frame.DataFrame'>, <class 'NoneType'>\n",
      "WARNING:tensorflow:Falling back from v2 loop because of error: Failed to find data adapter that can handle input: <class 'pandas.core.frame.DataFrame'>, <class 'NoneType'>\n",
      "WARNING:tensorflow:Falling back from v2 loop because of error: Failed to find data adapter that can handle input: <class 'pandas.core.frame.DataFrame'>, <class 'NoneType'>\n",
      "WARNING:tensorflow:Falling back from v2 loop because of error: Failed to find data adapter that can handle input: <class 'pandas.core.frame.DataFrame'>, <class 'NoneType'>\n",
      "WARNING:tensorflow:Falling back from v2 loop because of error: Failed to find data adapter that can handle input: <class 'pandas.core.frame.DataFrame'>, <class 'NoneType'>\n",
      "WARNING:tensorflow:Falling back from v2 loop because of error: Failed to find data adapter that can handle input: <class 'pandas.core.frame.DataFrame'>, <class 'NoneType'>\n",
      "WARNING:tensorflow:Falling back from v2 loop because of error: Failed to find data adapter that can handle input: <class 'pandas.core.frame.DataFrame'>, <class 'NoneType'>\n",
      "WARNING:tensorflow:Falling back from v2 loop because of error: Failed to find data adapter that can handle input: <class 'pandas.core.frame.DataFrame'>, <class 'NoneType'>\n",
      "Fitting 5 folds for each of 1 candidates, totalling 5 fits\n",
      "WARNING:tensorflow:Large dropout rate: 0.618694 (>0.5). In TensorFlow 2.x, dropout() uses dropout rate instead of keep_prob. Please ensure that this is intended.\n",
      "WARNING:tensorflow:Large dropout rate: 0.618694 (>0.5). In TensorFlow 2.x, dropout() uses dropout rate instead of keep_prob. Please ensure that this is intended.\n",
      "WARNING:tensorflow:Falling back from v2 loop because of error: Failed to find data adapter that can handle input: <class 'pandas.core.frame.DataFrame'>, <class 'NoneType'>\n",
      "WARNING:tensorflow:Falling back from v2 loop because of error: Failed to find data adapter that can handle input: <class 'pandas.core.frame.DataFrame'>, <class 'NoneType'>\n",
      "WARNING:tensorflow:Large dropout rate: 0.618694 (>0.5). In TensorFlow 2.x, dropout() uses dropout rate instead of keep_prob. Please ensure that this is intended.\n",
      "WARNING:tensorflow:Large dropout rate: 0.618694 (>0.5). In TensorFlow 2.x, dropout() uses dropout rate instead of keep_prob. Please ensure that this is intended.\n",
      "WARNING:tensorflow:Falling back from v2 loop because of error: Failed to find data adapter that can handle input: <class 'pandas.core.frame.DataFrame'>, <class 'NoneType'>\n",
      "WARNING:tensorflow:Falling back from v2 loop because of error: Failed to find data adapter that can handle input: <class 'pandas.core.frame.DataFrame'>, <class 'NoneType'>\n",
      "WARNING:tensorflow:Large dropout rate: 0.618694 (>0.5). In TensorFlow 2.x, dropout() uses dropout rate instead of keep_prob. Please ensure that this is intended.\n",
      "WARNING:tensorflow:Falling back from v2 loop because of error: Failed to find data adapter that can handle input: <class 'pandas.core.frame.DataFrame'>, <class 'NoneType'>\n",
      "WARNING:tensorflow:Falling back from v2 loop because of error: Failed to find data adapter that can handle input: <class 'pandas.core.frame.DataFrame'>, <class 'NoneType'>\n",
      "WARNING:tensorflow:Falling back from v2 loop because of error: Failed to find data adapter that can handle input: <class 'pandas.core.frame.DataFrame'>, <class 'NoneType'>\n",
      "WARNING:tensorflow:Falling back from v2 loop because of error: Failed to find data adapter that can handle input: <class 'pandas.core.frame.DataFrame'>, <class 'NoneType'>\n",
      "WARNING:tensorflow:Falling back from v2 loop because of error: Failed to find data adapter that can handle input: <class 'pandas.core.frame.DataFrame'>, <class 'NoneType'>\n",
      "WARNING:tensorflow:Falling back from v2 loop because of error: Failed to find data adapter that can handle input: <class 'pandas.core.frame.DataFrame'>, <class 'NoneType'>\n",
      "Fitting 5 folds for each of 1 candidates, totalling 5 fits\n",
      "WARNING:tensorflow:Falling back from v2 loop because of error: Failed to find data adapter that can handle input: <class 'pandas.core.frame.DataFrame'>, <class 'NoneType'>\n",
      "WARNING:tensorflow:Falling back from v2 loop because of error: Failed to find data adapter that can handle input: <class 'pandas.core.frame.DataFrame'>, <class 'NoneType'>\n",
      "WARNING:tensorflow:Falling back from v2 loop because of error: Failed to find data adapter that can handle input: <class 'pandas.core.frame.DataFrame'>, <class 'NoneType'>\n",
      "WARNING:tensorflow:Falling back from v2 loop because of error: Failed to find data adapter that can handle input: <class 'pandas.core.frame.DataFrame'>, <class 'NoneType'>\n",
      "WARNING:tensorflow:Falling back from v2 loop because of error: Failed to find data adapter that can handle input: <class 'pandas.core.frame.DataFrame'>, <class 'NoneType'>\n",
      "WARNING:tensorflow:Falling back from v2 loop because of error: Failed to find data adapter that can handle input: <class 'pandas.core.frame.DataFrame'>, <class 'NoneType'>\n",
      "WARNING:tensorflow:Falling back from v2 loop because of error: Failed to find data adapter that can handle input: <class 'pandas.core.frame.DataFrame'>, <class 'NoneType'>\n",
      "WARNING:tensorflow:Falling back from v2 loop because of error: Failed to find data adapter that can handle input: <class 'pandas.core.frame.DataFrame'>, <class 'NoneType'>\n",
      "WARNING:tensorflow:Falling back from v2 loop because of error: Failed to find data adapter that can handle input: <class 'pandas.core.frame.DataFrame'>, <class 'NoneType'>\n",
      "WARNING:tensorflow:Falling back from v2 loop because of error: Failed to find data adapter that can handle input: <class 'pandas.core.frame.DataFrame'>, <class 'NoneType'>\n",
      "Fitting 5 folds for each of 1 candidates, totalling 5 fits\n",
      "WARNING:tensorflow:Falling back from v2 loop because of error: Failed to find data adapter that can handle input: <class 'pandas.core.frame.DataFrame'>, <class 'NoneType'>\n",
      "WARNING:tensorflow:Falling back from v2 loop because of error: Failed to find data adapter that can handle input: <class 'pandas.core.frame.DataFrame'>, <class 'NoneType'>\n",
      "WARNING:tensorflow:Falling back from v2 loop because of error: Failed to find data adapter that can handle input: <class 'pandas.core.frame.DataFrame'>, <class 'NoneType'>\n",
      "WARNING:tensorflow:Falling back from v2 loop because of error: Failed to find data adapter that can handle input: <class 'pandas.core.frame.DataFrame'>, <class 'NoneType'>\n",
      "WARNING:tensorflow:Falling back from v2 loop because of error: Failed to find data adapter that can handle input: <class 'pandas.core.frame.DataFrame'>, <class 'NoneType'>\n",
      "WARNING:tensorflow:Falling back from v2 loop because of error: Failed to find data adapter that can handle input: <class 'pandas.core.frame.DataFrame'>, <class 'NoneType'>\n",
      "WARNING:tensorflow:Falling back from v2 loop because of error: Failed to find data adapter that can handle input: <class 'pandas.core.frame.DataFrame'>, <class 'NoneType'>\n",
      "WARNING:tensorflow:Falling back from v2 loop because of error: Failed to find data adapter that can handle input: <class 'pandas.core.frame.DataFrame'>, <class 'NoneType'>\n",
      "WARNING:tensorflow:Falling back from v2 loop because of error: Failed to find data adapter that can handle input: <class 'pandas.core.frame.DataFrame'>, <class 'NoneType'>\n",
      "WARNING:tensorflow:Falling back from v2 loop because of error: Failed to find data adapter that can handle input: <class 'pandas.core.frame.DataFrame'>, <class 'NoneType'>\n",
      "Fitting 5 folds for each of 1 candidates, totalling 5 fits\n",
      "WARNING:tensorflow:Falling back from v2 loop because of error: Failed to find data adapter that can handle input: <class 'pandas.core.frame.DataFrame'>, <class 'NoneType'>\n",
      "WARNING:tensorflow:Falling back from v2 loop because of error: Failed to find data adapter that can handle input: <class 'pandas.core.frame.DataFrame'>, <class 'NoneType'>\n",
      "WARNING:tensorflow:Falling back from v2 loop because of error: Failed to find data adapter that can handle input: <class 'pandas.core.frame.DataFrame'>, <class 'NoneType'>\n",
      "WARNING:tensorflow:Falling back from v2 loop because of error: Failed to find data adapter that can handle input: <class 'pandas.core.frame.DataFrame'>, <class 'NoneType'>\n",
      "WARNING:tensorflow:Falling back from v2 loop because of error: Failed to find data adapter that can handle input: <class 'pandas.core.frame.DataFrame'>, <class 'NoneType'>\n",
      "WARNING:tensorflow:Falling back from v2 loop because of error: Failed to find data adapter that can handle input: <class 'pandas.core.frame.DataFrame'>, <class 'NoneType'>\n",
      "WARNING:tensorflow:Falling back from v2 loop because of error: Failed to find data adapter that can handle input: <class 'pandas.core.frame.DataFrame'>, <class 'NoneType'>\n",
      "WARNING:tensorflow:Falling back from v2 loop because of error: Failed to find data adapter that can handle input: <class 'pandas.core.frame.DataFrame'>, <class 'NoneType'>\n",
      "WARNING:tensorflow:Falling back from v2 loop because of error: Failed to find data adapter that can handle input: <class 'pandas.core.frame.DataFrame'>, <class 'NoneType'>\n",
      "WARNING:tensorflow:Falling back from v2 loop because of error: Failed to find data adapter that can handle input: <class 'pandas.core.frame.DataFrame'>, <class 'NoneType'>\n",
      "Fitting 5 folds for each of 1 candidates, totalling 5 fits\n",
      "WARNING:tensorflow:Falling back from v2 loop because of error: Failed to find data adapter that can handle input: <class 'pandas.core.frame.DataFrame'>, <class 'NoneType'>\n",
      "WARNING:tensorflow:Falling back from v2 loop because of error: Failed to find data adapter that can handle input: <class 'pandas.core.frame.DataFrame'>, <class 'NoneType'>\n",
      "WARNING:tensorflow:Falling back from v2 loop because of error: Failed to find data adapter that can handle input: <class 'pandas.core.frame.DataFrame'>, <class 'NoneType'>\n",
      "WARNING:tensorflow:Falling back from v2 loop because of error: Failed to find data adapter that can handle input: <class 'pandas.core.frame.DataFrame'>, <class 'NoneType'>\n",
      "WARNING:tensorflow:Falling back from v2 loop because of error: Failed to find data adapter that can handle input: <class 'pandas.core.frame.DataFrame'>, <class 'NoneType'>\n",
      "WARNING:tensorflow:Falling back from v2 loop because of error: Failed to find data adapter that can handle input: <class 'pandas.core.frame.DataFrame'>, <class 'NoneType'>\n",
      "WARNING:tensorflow:Falling back from v2 loop because of error: Failed to find data adapter that can handle input: <class 'pandas.core.frame.DataFrame'>, <class 'NoneType'>\n",
      "WARNING:tensorflow:Falling back from v2 loop because of error: Failed to find data adapter that can handle input: <class 'pandas.core.frame.DataFrame'>, <class 'NoneType'>\n",
      "WARNING:tensorflow:Falling back from v2 loop because of error: Failed to find data adapter that can handle input: <class 'pandas.core.frame.DataFrame'>, <class 'NoneType'>\n",
      "WARNING:tensorflow:Falling back from v2 loop because of error: Failed to find data adapter that can handle input: <class 'pandas.core.frame.DataFrame'>, <class 'NoneType'>\n",
      "Fitting 5 folds for each of 1 candidates, totalling 5 fits\n",
      "WARNING:tensorflow:Falling back from v2 loop because of error: Failed to find data adapter that can handle input: <class 'pandas.core.frame.DataFrame'>, <class 'NoneType'>\n",
      "WARNING:tensorflow:Falling back from v2 loop because of error: Failed to find data adapter that can handle input: <class 'pandas.core.frame.DataFrame'>, <class 'NoneType'>\n",
      "WARNING:tensorflow:Falling back from v2 loop because of error: Failed to find data adapter that can handle input: <class 'pandas.core.frame.DataFrame'>, <class 'NoneType'>\n",
      "WARNING:tensorflow:Falling back from v2 loop because of error: Failed to find data adapter that can handle input: <class 'pandas.core.frame.DataFrame'>, <class 'NoneType'>\n",
      "WARNING:tensorflow:Falling back from v2 loop because of error: Failed to find data adapter that can handle input: <class 'pandas.core.frame.DataFrame'>, <class 'NoneType'>\n",
      "WARNING:tensorflow:Falling back from v2 loop because of error: Failed to find data adapter that can handle input: <class 'pandas.core.frame.DataFrame'>, <class 'NoneType'>\n",
      "WARNING:tensorflow:Falling back from v2 loop because of error: Failed to find data adapter that can handle input: <class 'pandas.core.frame.DataFrame'>, <class 'NoneType'>\n",
      "WARNING:tensorflow:Falling back from v2 loop because of error: Failed to find data adapter that can handle input: <class 'pandas.core.frame.DataFrame'>, <class 'NoneType'>\n",
      "WARNING:tensorflow:Falling back from v2 loop because of error: Failed to find data adapter that can handle input: <class 'pandas.core.frame.DataFrame'>, <class 'NoneType'>\n",
      "WARNING:tensorflow:Falling back from v2 loop because of error: Failed to find data adapter that can handle input: <class 'pandas.core.frame.DataFrame'>, <class 'NoneType'>\n",
      "Fitting 5 folds for each of 1 candidates, totalling 5 fits\n",
      "WARNING:tensorflow:Falling back from v2 loop because of error: Failed to find data adapter that can handle input: <class 'pandas.core.frame.DataFrame'>, <class 'NoneType'>\n",
      "WARNING:tensorflow:Falling back from v2 loop because of error: Failed to find data adapter that can handle input: <class 'pandas.core.frame.DataFrame'>, <class 'NoneType'>\n",
      "WARNING:tensorflow:Falling back from v2 loop because of error: Failed to find data adapter that can handle input: <class 'pandas.core.frame.DataFrame'>, <class 'NoneType'>\n",
      "WARNING:tensorflow:Falling back from v2 loop because of error: Failed to find data adapter that can handle input: <class 'pandas.core.frame.DataFrame'>, <class 'NoneType'>\n",
      "WARNING:tensorflow:Falling back from v2 loop because of error: Failed to find data adapter that can handle input: <class 'pandas.core.frame.DataFrame'>, <class 'NoneType'>\n",
      "WARNING:tensorflow:Falling back from v2 loop because of error: Failed to find data adapter that can handle input: <class 'pandas.core.frame.DataFrame'>, <class 'NoneType'>\n",
      "WARNING:tensorflow:Falling back from v2 loop because of error: Failed to find data adapter that can handle input: <class 'pandas.core.frame.DataFrame'>, <class 'NoneType'>\n",
      "WARNING:tensorflow:Falling back from v2 loop because of error: Failed to find data adapter that can handle input: <class 'pandas.core.frame.DataFrame'>, <class 'NoneType'>\n",
      "WARNING:tensorflow:Falling back from v2 loop because of error: Failed to find data adapter that can handle input: <class 'pandas.core.frame.DataFrame'>, <class 'NoneType'>\n",
      "WARNING:tensorflow:Falling back from v2 loop because of error: Failed to find data adapter that can handle input: <class 'pandas.core.frame.DataFrame'>, <class 'NoneType'>\n",
      "Fitting 5 folds for each of 1 candidates, totalling 5 fits\n",
      "WARNING:tensorflow:Falling back from v2 loop because of error: Failed to find data adapter that can handle input: <class 'pandas.core.frame.DataFrame'>, <class 'NoneType'>\n",
      "WARNING:tensorflow:Falling back from v2 loop because of error: Failed to find data adapter that can handle input: <class 'pandas.core.frame.DataFrame'>, <class 'NoneType'>\n",
      "WARNING:tensorflow:Falling back from v2 loop because of error: Failed to find data adapter that can handle input: <class 'pandas.core.frame.DataFrame'>, <class 'NoneType'>\n",
      "WARNING:tensorflow:Falling back from v2 loop because of error: Failed to find data adapter that can handle input: <class 'pandas.core.frame.DataFrame'>, <class 'NoneType'>\n",
      "WARNING:tensorflow:Falling back from v2 loop because of error: Failed to find data adapter that can handle input: <class 'pandas.core.frame.DataFrame'>, <class 'NoneType'>\n",
      "WARNING:tensorflow:Falling back from v2 loop because of error: Failed to find data adapter that can handle input: <class 'pandas.core.frame.DataFrame'>, <class 'NoneType'>\n",
      "WARNING:tensorflow:Falling back from v2 loop because of error: Failed to find data adapter that can handle input: <class 'pandas.core.frame.DataFrame'>, <class 'NoneType'>\n",
      "WARNING:tensorflow:Falling back from v2 loop because of error: Failed to find data adapter that can handle input: <class 'pandas.core.frame.DataFrame'>, <class 'NoneType'>\n",
      "WARNING:tensorflow:Falling back from v2 loop because of error: Failed to find data adapter that can handle input: <class 'pandas.core.frame.DataFrame'>, <class 'NoneType'>\n",
      "WARNING:tensorflow:Falling back from v2 loop because of error: Failed to find data adapter that can handle input: <class 'pandas.core.frame.DataFrame'>, <class 'NoneType'>\n",
      "Fitting 5 folds for each of 1 candidates, totalling 5 fits\n",
      "WARNING:tensorflow:Falling back from v2 loop because of error: Failed to find data adapter that can handle input: <class 'pandas.core.frame.DataFrame'>, <class 'NoneType'>\n",
      "WARNING:tensorflow:Falling back from v2 loop because of error: Failed to find data adapter that can handle input: <class 'pandas.core.frame.DataFrame'>, <class 'NoneType'>\n",
      "WARNING:tensorflow:Falling back from v2 loop because of error: Failed to find data adapter that can handle input: <class 'pandas.core.frame.DataFrame'>, <class 'NoneType'>\n",
      "WARNING:tensorflow:Falling back from v2 loop because of error: Failed to find data adapter that can handle input: <class 'pandas.core.frame.DataFrame'>, <class 'NoneType'>\n",
      "WARNING:tensorflow:Falling back from v2 loop because of error: Failed to find data adapter that can handle input: <class 'pandas.core.frame.DataFrame'>, <class 'NoneType'>\n",
      "WARNING:tensorflow:Falling back from v2 loop because of error: Failed to find data adapter that can handle input: <class 'pandas.core.frame.DataFrame'>, <class 'NoneType'>\n",
      "WARNING:tensorflow:Falling back from v2 loop because of error: Failed to find data adapter that can handle input: <class 'pandas.core.frame.DataFrame'>, <class 'NoneType'>\n",
      "WARNING:tensorflow:Falling back from v2 loop because of error: Failed to find data adapter that can handle input: <class 'pandas.core.frame.DataFrame'>, <class 'NoneType'>\n",
      "WARNING:tensorflow:Falling back from v2 loop because of error: Failed to find data adapter that can handle input: <class 'pandas.core.frame.DataFrame'>, <class 'NoneType'>\n",
      "WARNING:tensorflow:Falling back from v2 loop because of error: Failed to find data adapter that can handle input: <class 'pandas.core.frame.DataFrame'>, <class 'NoneType'>\n",
      "Fitting 5 folds for each of 1 candidates, totalling 5 fits\n",
      "WARNING:tensorflow:Falling back from v2 loop because of error: Failed to find data adapter that can handle input: <class 'pandas.core.frame.DataFrame'>, <class 'NoneType'>\n",
      "WARNING:tensorflow:Falling back from v2 loop because of error: Failed to find data adapter that can handle input: <class 'pandas.core.frame.DataFrame'>, <class 'NoneType'>\n",
      "WARNING:tensorflow:Falling back from v2 loop because of error: Failed to find data adapter that can handle input: <class 'pandas.core.frame.DataFrame'>, <class 'NoneType'>\n",
      "WARNING:tensorflow:Falling back from v2 loop because of error: Failed to find data adapter that can handle input: <class 'pandas.core.frame.DataFrame'>, <class 'NoneType'>\n",
      "WARNING:tensorflow:Falling back from v2 loop because of error: Failed to find data adapter that can handle input: <class 'pandas.core.frame.DataFrame'>, <class 'NoneType'>\n",
      "WARNING:tensorflow:Falling back from v2 loop because of error: Failed to find data adapter that can handle input: <class 'pandas.core.frame.DataFrame'>, <class 'NoneType'>\n",
      "WARNING:tensorflow:Falling back from v2 loop because of error: Failed to find data adapter that can handle input: <class 'pandas.core.frame.DataFrame'>, <class 'NoneType'>\n",
      "WARNING:tensorflow:Falling back from v2 loop because of error: Failed to find data adapter that can handle input: <class 'pandas.core.frame.DataFrame'>, <class 'NoneType'>\n",
      "WARNING:tensorflow:Falling back from v2 loop because of error: Failed to find data adapter that can handle input: <class 'pandas.core.frame.DataFrame'>, <class 'NoneType'>\n",
      "WARNING:tensorflow:Falling back from v2 loop because of error: Failed to find data adapter that can handle input: <class 'pandas.core.frame.DataFrame'>, <class 'NoneType'>\n",
      "Fitting 5 folds for each of 1 candidates, totalling 5 fits\n",
      "WARNING:tensorflow:Falling back from v2 loop because of error: Failed to find data adapter that can handle input: <class 'pandas.core.frame.DataFrame'>, <class 'NoneType'>\n",
      "WARNING:tensorflow:Falling back from v2 loop because of error: Failed to find data adapter that can handle input: <class 'pandas.core.frame.DataFrame'>, <class 'NoneType'>\n",
      "WARNING:tensorflow:Falling back from v2 loop because of error: Failed to find data adapter that can handle input: <class 'pandas.core.frame.DataFrame'>, <class 'NoneType'>\n",
      "WARNING:tensorflow:Falling back from v2 loop because of error: Failed to find data adapter that can handle input: <class 'pandas.core.frame.DataFrame'>, <class 'NoneType'>\n",
      "WARNING:tensorflow:Falling back from v2 loop because of error: Failed to find data adapter that can handle input: <class 'pandas.core.frame.DataFrame'>, <class 'NoneType'>\n",
      "WARNING:tensorflow:Falling back from v2 loop because of error: Failed to find data adapter that can handle input: <class 'pandas.core.frame.DataFrame'>, <class 'NoneType'>\n",
      "WARNING:tensorflow:Falling back from v2 loop because of error: Failed to find data adapter that can handle input: <class 'pandas.core.frame.DataFrame'>, <class 'NoneType'>\n",
      "WARNING:tensorflow:Falling back from v2 loop because of error: Failed to find data adapter that can handle input: <class 'pandas.core.frame.DataFrame'>, <class 'NoneType'>\n",
      "WARNING:tensorflow:Falling back from v2 loop because of error: Failed to find data adapter that can handle input: <class 'pandas.core.frame.DataFrame'>, <class 'NoneType'>\n",
      "WARNING:tensorflow:Falling back from v2 loop because of error: Failed to find data adapter that can handle input: <class 'pandas.core.frame.DataFrame'>, <class 'NoneType'>\n",
      "Fitting 5 folds for each of 1 candidates, totalling 5 fits\n",
      "WARNING:tensorflow:Falling back from v2 loop because of error: Failed to find data adapter that can handle input: <class 'pandas.core.frame.DataFrame'>, <class 'NoneType'>\n",
      "WARNING:tensorflow:Falling back from v2 loop because of error: Failed to find data adapter that can handle input: <class 'pandas.core.frame.DataFrame'>, <class 'NoneType'>\n",
      "WARNING:tensorflow:Falling back from v2 loop because of error: Failed to find data adapter that can handle input: <class 'pandas.core.frame.DataFrame'>, <class 'NoneType'>\n",
      "WARNING:tensorflow:Falling back from v2 loop because of error: Failed to find data adapter that can handle input: <class 'pandas.core.frame.DataFrame'>, <class 'NoneType'>\n",
      "WARNING:tensorflow:Falling back from v2 loop because of error: Failed to find data adapter that can handle input: <class 'pandas.core.frame.DataFrame'>, <class 'NoneType'>\n",
      "WARNING:tensorflow:Falling back from v2 loop because of error: Failed to find data adapter that can handle input: <class 'pandas.core.frame.DataFrame'>, <class 'NoneType'>\n",
      "WARNING:tensorflow:Falling back from v2 loop because of error: Failed to find data adapter that can handle input: <class 'pandas.core.frame.DataFrame'>, <class 'NoneType'>\n",
      "WARNING:tensorflow:Falling back from v2 loop because of error: Failed to find data adapter that can handle input: <class 'pandas.core.frame.DataFrame'>, <class 'NoneType'>\n",
      "WARNING:tensorflow:Falling back from v2 loop because of error: Failed to find data adapter that can handle input: <class 'pandas.core.frame.DataFrame'>, <class 'NoneType'>\n",
      "WARNING:tensorflow:Falling back from v2 loop because of error: Failed to find data adapter that can handle input: <class 'pandas.core.frame.DataFrame'>, <class 'NoneType'>\n"
     ]
    },
    {
     "name": "stderr",
     "output_type": "stream",
     "text": [
      "C:\\Users\\Sana\\anaconda3\\envs\\rstudio\\lib\\site-packages\\skopt\\optimizer\\optimizer.py:449: UserWarning: The objective has been evaluated at this point before.\n",
      "  warnings.warn(\"The objective has been evaluated \"\n"
     ]
    },
    {
     "name": "stdout",
     "output_type": "stream",
     "text": [
      "Fitting 5 folds for each of 1 candidates, totalling 5 fits\n",
      "WARNING:tensorflow:Falling back from v2 loop because of error: Failed to find data adapter that can handle input: <class 'pandas.core.frame.DataFrame'>, <class 'NoneType'>\n",
      "WARNING:tensorflow:Falling back from v2 loop because of error: Failed to find data adapter that can handle input: <class 'pandas.core.frame.DataFrame'>, <class 'NoneType'>\n",
      "WARNING:tensorflow:Falling back from v2 loop because of error: Failed to find data adapter that can handle input: <class 'pandas.core.frame.DataFrame'>, <class 'NoneType'>\n",
      "WARNING:tensorflow:Falling back from v2 loop because of error: Failed to find data adapter that can handle input: <class 'pandas.core.frame.DataFrame'>, <class 'NoneType'>\n",
      "WARNING:tensorflow:Falling back from v2 loop because of error: Failed to find data adapter that can handle input: <class 'pandas.core.frame.DataFrame'>, <class 'NoneType'>\n",
      "WARNING:tensorflow:Falling back from v2 loop because of error: Failed to find data adapter that can handle input: <class 'pandas.core.frame.DataFrame'>, <class 'NoneType'>\n",
      "WARNING:tensorflow:Falling back from v2 loop because of error: Failed to find data adapter that can handle input: <class 'pandas.core.frame.DataFrame'>, <class 'NoneType'>\n",
      "WARNING:tensorflow:Falling back from v2 loop because of error: Failed to find data adapter that can handle input: <class 'pandas.core.frame.DataFrame'>, <class 'NoneType'>\n",
      "WARNING:tensorflow:Falling back from v2 loop because of error: Failed to find data adapter that can handle input: <class 'pandas.core.frame.DataFrame'>, <class 'NoneType'>\n",
      "WARNING:tensorflow:Falling back from v2 loop because of error: Failed to find data adapter that can handle input: <class 'pandas.core.frame.DataFrame'>, <class 'NoneType'>\n",
      "Fitting 5 folds for each of 1 candidates, totalling 5 fits\n",
      "WARNING:tensorflow:Falling back from v2 loop because of error: Failed to find data adapter that can handle input: <class 'pandas.core.frame.DataFrame'>, <class 'NoneType'>\n",
      "WARNING:tensorflow:Falling back from v2 loop because of error: Failed to find data adapter that can handle input: <class 'pandas.core.frame.DataFrame'>, <class 'NoneType'>\n",
      "WARNING:tensorflow:Falling back from v2 loop because of error: Failed to find data adapter that can handle input: <class 'pandas.core.frame.DataFrame'>, <class 'NoneType'>\n",
      "WARNING:tensorflow:Falling back from v2 loop because of error: Failed to find data adapter that can handle input: <class 'pandas.core.frame.DataFrame'>, <class 'NoneType'>\n",
      "WARNING:tensorflow:Falling back from v2 loop because of error: Failed to find data adapter that can handle input: <class 'pandas.core.frame.DataFrame'>, <class 'NoneType'>\n",
      "WARNING:tensorflow:Falling back from v2 loop because of error: Failed to find data adapter that can handle input: <class 'pandas.core.frame.DataFrame'>, <class 'NoneType'>\n",
      "WARNING:tensorflow:Falling back from v2 loop because of error: Failed to find data adapter that can handle input: <class 'pandas.core.frame.DataFrame'>, <class 'NoneType'>\n",
      "WARNING:tensorflow:Falling back from v2 loop because of error: Failed to find data adapter that can handle input: <class 'pandas.core.frame.DataFrame'>, <class 'NoneType'>\n",
      "WARNING:tensorflow:Falling back from v2 loop because of error: Failed to find data adapter that can handle input: <class 'pandas.core.frame.DataFrame'>, <class 'NoneType'>\n",
      "WARNING:tensorflow:Falling back from v2 loop because of error: Failed to find data adapter that can handle input: <class 'pandas.core.frame.DataFrame'>, <class 'NoneType'>\n",
      "WARNING:tensorflow:Falling back from v2 loop because of error: Failed to find data adapter that can handle input: <class 'pandas.core.frame.DataFrame'>, <class 'NoneType'>\n"
     ]
    },
    {
     "data": {
      "text/plain": [
       "BayesSearchCV(cv=StratifiedKFold(n_splits=5, random_state=42, shuffle=True),\n",
       "              estimator=<tensorflow.python.keras.wrappers.scikit_learn.KerasClassifier object at 0x000002946A0EEB70>,\n",
       "              n_iter=15, random_state=42, scoring='precision',\n",
       "              search_spaces={'dropout_rate': Real(low=0.2, high=0.7, prior='uniform', transform='normalize'),\n",
       "                             'hidden_units_1': Integer(low=32, high=256, prior='uniform', transform='normalize'),\n",
       "                             'hidden_units_2': Integer(low=32, high=256, prior='uniform', transform='normalize')},\n",
       "              verbose=1)"
      ]
     },
     "execution_count": 18,
     "metadata": {},
     "output_type": "execute_result"
    }
   ],
   "source": [
    "bayes_search.fit(train_df, y_train, sample_weight=sample_weights)"
   ]
  },
  {
   "cell_type": "code",
   "execution_count": 19,
   "id": "e67f0832",
   "metadata": {},
   "outputs": [
    {
     "name": "stdout",
     "output_type": "stream",
     "text": [
      "Best parameters found:  OrderedDict([('dropout_rate', 0.7), ('hidden_units_1', 82), ('hidden_units_2', 256)])\n"
     ]
    }
   ],
   "source": [
    "# Getting the best parameters\n",
    "best_params = bayes_search.best_params_\n",
    "print(\"Best parameters found: \", best_params)"
   ]
  },
  {
   "cell_type": "code",
   "execution_count": 20,
   "id": "8f1d586f",
   "metadata": {},
   "outputs": [],
   "source": [
    "# Fitting the best parameters into our model\n",
    "best_model = mlp_model(\n",
    "    hidden_units_1=best_params['hidden_units_1'], \n",
    "    hidden_units_2=best_params['hidden_units_2'], \n",
    "    dropout_rate=best_params['dropout_rate']\n",
    ")"
   ]
  },
  {
   "cell_type": "code",
   "execution_count": 21,
   "id": "cb256680",
   "metadata": {},
   "outputs": [],
   "source": [
    "# Compiling the model\n",
    "best_model.compile(optimizer='adam', loss='binary_crossentropy', metrics=metrics)"
   ]
  },
  {
   "cell_type": "code",
   "execution_count": 22,
   "id": "434024c6",
   "metadata": {},
   "outputs": [
    {
     "name": "stdout",
     "output_type": "stream",
     "text": [
      "WARNING:tensorflow:Falling back from v2 loop because of error: Failed to find data adapter that can handle input: <class 'pandas.core.frame.DataFrame'>, <class 'NoneType'>\n",
      "Train on 170884 samples, validate on 56961 samples\n",
      "Epoch 1/10\n",
      "170884/170884 [==============================] - 12s 72us/sample - loss: 1.0797 - accuracy: 0.9866 - precision: 0.0796 - recall: 0.6407 - f1_score: 0.0907 - roc_auc: 0.8512 - auprc: 0.4387 - matthews_correlation: 0.1420 - g_mean: 0.6021 - val_loss: 0.0220 - val_accuracy: 0.9986 - val_precision: 0.6241 - val_recall: 0.7857 - val_f1_score: 0.1628 - val_roc_auc: 0.9397 - val_auprc: 0.6660 - val_matthews_correlation: 0.2971 - val_g_mean: 0.8046\n",
      "Epoch 2/10\n",
      "170884/170884 [==============================] - 10s 61us/sample - loss: 0.3188 - accuracy: 0.9625 - precision: 0.0390 - recall: 0.8780 - f1_score: 0.1339 - roc_auc: 0.9515 - auprc: 0.5286 - matthews_correlation: 0.1067 - g_mean: 0.8446 - val_loss: 0.0349 - val_accuracy: 0.9960 - val_precision: 0.3079 - val_recall: 0.8304 - val_f1_score: 0.1157 - val_roc_auc: 0.9482 - val_auprc: 0.6707 - val_matthews_correlation: 0.2626 - val_g_mean: 0.8675\n",
      "Epoch 3/10\n",
      "170884/170884 [==============================] - 14s 79us/sample - loss: 0.2664 - accuracy: 0.9490 - precision: 0.0297 - recall: 0.9017 - f1_score: 0.1074 - roc_auc: 0.9592 - auprc: 0.5553 - matthews_correlation: 0.0956 - g_mean: 0.8796 - val_loss: 0.0711 - val_accuracy: 0.9936 - val_precision: 0.2135 - val_recall: 0.8482 - val_f1_score: 0.0956 - val_roc_auc: 0.9774 - val_auprc: 0.7059 - val_matthews_correlation: 0.2316 - val_g_mean: 0.8881\n",
      "Epoch 4/10\n",
      "170884/170884 [==============================] - 11s 65us/sample - loss: 0.2284 - accuracy: 0.9553 - precision: 0.0338 - recall: 0.9017 - f1_score: 0.0936 - roc_auc: 0.9666 - auprc: 0.5363 - matthews_correlation: 0.1010 - g_mean: 0.8935 - val_loss: 0.0629 - val_accuracy: 0.9938 - val_precision: 0.2209 - val_recall: 0.8482 - val_f1_score: 0.0914 - val_roc_auc: 0.9805 - val_auprc: 0.7051 - val_matthews_correlation: 0.2437 - val_g_mean: 0.8971\n",
      "Epoch 5/10\n",
      "170884/170884 [==============================] - 10s 61us/sample - loss: 0.1954 - accuracy: 0.9644 - precision: 0.0428 - recall: 0.9186 - f1_score: 0.0919 - roc_auc: 0.9752 - auprc: 0.6018 - matthews_correlation: 0.1179 - g_mean: 0.9008 - val_loss: 0.0464 - val_accuracy: 0.9942 - val_precision: 0.2341 - val_recall: 0.8571 - val_f1_score: 0.0933 - val_roc_auc: 0.9788 - val_auprc: 0.6932 - val_matthews_correlation: 0.2494 - val_g_mean: 0.9052\n",
      "Epoch 6/10\n",
      "170884/170884 [==============================] - 10s 61us/sample - loss: 0.2009 - accuracy: 0.9686 - precision: 0.0478 - recall: 0.9085 - f1_score: 0.0952 - roc_auc: 0.9747 - auprc: 0.6025 - matthews_correlation: 0.1216 - g_mean: 0.9081 - val_loss: 0.0723 - val_accuracy: 0.9925 - val_precision: 0.1901 - val_recall: 0.8571 - val_f1_score: 0.0966 - val_roc_auc: 0.9829 - val_auprc: 0.6935 - val_matthews_correlation: 0.2323 - val_g_mean: 0.9103\n",
      "Epoch 7/10\n",
      "170884/170884 [==============================] - 10s 61us/sample - loss: 0.1854 - accuracy: 0.9656 - precision: 0.0446 - recall: 0.9254 - f1_score: 0.0973 - roc_auc: 0.9800 - auprc: 0.5970 - matthews_correlation: 0.1158 - g_mean: 0.9127 - val_loss: 0.0494 - val_accuracy: 0.9953 - val_precision: 0.2783 - val_recall: 0.8571 - val_f1_score: 0.0976 - val_roc_auc: 0.9830 - val_auprc: 0.6893 - val_matthews_correlation: 0.2795 - val_g_mean: 0.9143\n",
      "Epoch 8/10\n",
      "170884/170884 [==============================] - 10s 61us/sample - loss: 0.1745 - accuracy: 0.9673 - precision: 0.0465 - recall: 0.9186 - f1_score: 0.0992 - roc_auc: 0.9762 - auprc: 0.5673 - matthews_correlation: 0.1178 - g_mean: 0.9164 - val_loss: 0.0615 - val_accuracy: 0.9937 - val_precision: 0.2187 - val_recall: 0.8571 - val_f1_score: 0.0994 - val_roc_auc: 0.9847 - val_auprc: 0.7053 - val_matthews_correlation: 0.2523 - val_g_mean: 0.9173\n",
      "Epoch 9/10\n",
      "170884/170884 [==============================] - 11s 67us/sample - loss: 0.1711 - accuracy: 0.9719 - precision: 0.0544 - recall: 0.9322 - f1_score: 0.1009 - roc_auc: 0.9794 - auprc: 0.6212 - matthews_correlation: 0.1328 - g_mean: 0.9192 - val_loss: 0.0361 - val_accuracy: 0.9957 - val_precision: 0.2950 - val_recall: 0.8482 - val_f1_score: 0.1020 - val_roc_auc: 0.9852 - val_auprc: 0.7062 - val_matthews_correlation: 0.2760 - val_g_mean: 0.9203\n",
      "Epoch 10/10\n",
      "170884/170884 [==============================] - 11s 66us/sample - loss: 0.1635 - accuracy: 0.9766 - precision: 0.0648 - recall: 0.9356 - f1_score: 0.1036 - roc_auc: 0.9824 - auprc: 0.6060 - matthews_correlation: 0.1380 - g_mean: 0.9216 - val_loss: 0.0339 - val_accuracy: 0.9970 - val_precision: 0.3837 - val_recall: 0.8393 - val_f1_score: 0.1055 - val_roc_auc: 0.9844 - val_auprc: 0.7022 - val_matthews_correlation: 0.2915 - val_g_mean: 0.9227\n"
     ]
    }
   ],
   "source": [
    "# Training the best model on training set \n",
    "history = best_model.fit(train_df, y_train, sample_weight=sample_weights, epochs=10, batch_size=256, validation_data=(val_df, y_val), verbose=1)"
   ]
  },
  {
   "cell_type": "markdown",
   "id": "aa599aef",
   "metadata": {},
   "source": [
    "## Validation Set Results"
   ]
  },
  {
   "cell_type": "code",
   "execution_count": 23,
   "id": "96ceb248",
   "metadata": {},
   "outputs": [
    {
     "name": "stdout",
     "output_type": "stream",
     "text": [
      "WARNING:tensorflow:Falling back from v2 loop because of error: Failed to find data adapter that can handle input: <class 'pandas.core.frame.DataFrame'>, <class 'NoneType'>\n",
      "56961/56961 [==============================] - 2s 42us/sample - loss: 0.0339 - accuracy: 0.9970 - precision: 0.3837 - recall: 0.8393 - f1_score: 0.1078 - roc_auc: 0.9844 - auprc: 0.7022 - matthews_correlation: 0.0497 - g_mean: 0.9226\n",
      "[0.03387801930797188, 0.99703306, 0.38367346, 0.83928573, 0.10779818, 0.9843956, 0.7021821, 0.049681216, 0.9225713]\n"
     ]
    }
   ],
   "source": [
    "# Evaluating the model on validation set\n",
    "val_loss = best_model.evaluate(val_df, y_val)\n",
    "print(val_loss)"
   ]
  },
  {
   "cell_type": "code",
   "execution_count": 24,
   "id": "955c5958",
   "metadata": {},
   "outputs": [
    {
     "name": "stdout",
     "output_type": "stream",
     "text": [
      "WARNING:tensorflow:Falling back from v2 loop because of error: Failed to find data adapter that can handle input: <class 'pandas.core.frame.DataFrame'>, <class 'NoneType'>\n"
     ]
    }
   ],
   "source": [
    "y_pred_val = (best_model.predict(val_df) > 0.8).astype(int)\n",
    "y_pred_val = y_pred_val.flatten()\n",
    "\n",
    "# Calculating evaluation metrics on the validation set\n",
    "val_accuracy = accuracy_score(y_val, y_pred_val)\n",
    "val_precision = precision_score(y_val, y_pred_val)\n",
    "val_recall = recall_score(y_val, y_pred_val)\n",
    "val_f1 = f1_score(y_val, y_pred_val)\n",
    "val_roc_auc = roc_auc_score(y_val, y_pred_val)\n",
    "val_pr_auc = average_precision_score(y_val, y_pred_val)\n",
    "val_mcc = matthews_corrcoef(y_val, y_pred_val)\n",
    "val_g_mean = geometric_mean_score(y_val, y_pred_val)\n",
    "val_cm = confusion_matrix(y_val, y_pred_val)"
   ]
  },
  {
   "cell_type": "code",
   "execution_count": 25,
   "id": "4eee43da",
   "metadata": {},
   "outputs": [
    {
     "data": {
      "text/plain": [
       "{'Accuracy': 0.9991573181650603,\n",
       " 'Precision': 0.7962962962962963,\n",
       " 'Recall': 0.7678571428571429,\n",
       " 'F1 Score': <tf.Tensor: id=5683473, shape=(), dtype=float32, numpy=0.7818181>,\n",
       " 'ROC AUC Score': 0.8837350763802856,\n",
       " 'PR AUC': 0.6118982516023913,\n",
       " 'Matthews Correlation Coefficient': 0.7815258542744341,\n",
       " 'G-Mean': 0.8761050106849495,\n",
       " 'Confusion Matrix': array([[56827,    22],\n",
       "        [   26,    86]], dtype=int64)}"
      ]
     },
     "execution_count": 25,
     "metadata": {},
     "output_type": "execute_result"
    }
   ],
   "source": [
    "val_results = {\n",
    "    'Accuracy': val_accuracy,\n",
    "    'Precision': val_precision,\n",
    "    'Recall': val_recall,\n",
    "    'F1 Score': val_f1,\n",
    "    'ROC AUC Score': val_roc_auc,\n",
    "    'PR AUC': val_pr_auc,\n",
    "    'Matthews Correlation Coefficient': val_mcc,\n",
    "    'G-Mean': val_g_mean,\n",
    "    'Confusion Matrix': val_cm\n",
    "}\n",
    "\n",
    "val_results"
   ]
  },
  {
   "cell_type": "markdown",
   "id": "6292fea1",
   "metadata": {},
   "source": [
    "## Test Set Results"
   ]
  },
  {
   "cell_type": "code",
   "execution_count": 26,
   "id": "50bf55cf",
   "metadata": {},
   "outputs": [
    {
     "name": "stdout",
     "output_type": "stream",
     "text": [
      "WARNING:tensorflow:Falling back from v2 loop because of error: Failed to find data adapter that can handle input: <class 'pandas.core.frame.DataFrame'>, <class 'NoneType'>\n",
      "56962/56962 [==============================] - 2s 40us/sample - loss: 0.0326 - accuracy: 0.9973 - precision: 0.3380 - recall: 0.8471 - f1_score: 0.1097 - roc_auc: 0.9765 - auprc: 0.7145 - matthews_correlation: 0.0388 - g_mean: 0.9225\n"
     ]
    },
    {
     "data": {
      "text/plain": [
       "[0.03258484374910451,\n",
       " 0.99729645,\n",
       " 0.33802816,\n",
       " 0.84705883,\n",
       " 0.10969321,\n",
       " 0.9765005,\n",
       " 0.7145441,\n",
       " 0.038839787,\n",
       " 0.9225103]"
      ]
     },
     "execution_count": 26,
     "metadata": {},
     "output_type": "execute_result"
    }
   ],
   "source": [
    "# Evaluating the best model on test set\n",
    "test_loss = best_model.evaluate(test_df, y_test)\n",
    "test_loss"
   ]
  },
  {
   "cell_type": "code",
   "execution_count": 27,
   "id": "911bbca7",
   "metadata": {},
   "outputs": [
    {
     "name": "stdout",
     "output_type": "stream",
     "text": [
      "WARNING:tensorflow:Falling back from v2 loop because of error: Failed to find data adapter that can handle input: <class 'pandas.core.frame.DataFrame'>, <class 'NoneType'>\n",
      "56962/56962 [==============================] - 2s 40us/sample - loss: 0.0326 - accuracy: 0.9973 - precision: 0.3380 - recall: 0.8471 - f1_score: 0.1113 - roc_auc: 0.9765 - auprc: 0.7145 - matthews_correlation: 0.0388 - g_mean: 0.9225\n",
      "[0.03258484374910451, 0.99729645, 0.33802816, 0.84705883, 0.11134233, 0.9765005, 0.7145441, 0.038839787, 0.922495]\n"
     ]
    }
   ],
   "source": [
    "test_results_ = best_model.evaluate(test_df, y_test)\n",
    "print(test_results_)"
   ]
  },
  {
   "cell_type": "code",
   "execution_count": 28,
   "id": "bedd4a5c",
   "metadata": {},
   "outputs": [
    {
     "name": "stdout",
     "output_type": "stream",
     "text": [
      "WARNING:tensorflow:Falling back from v2 loop because of error: Failed to find data adapter that can handle input: <class 'pandas.core.frame.DataFrame'>, <class 'NoneType'>\n"
     ]
    }
   ],
   "source": [
    "y_pred_test = (best_model.predict(test_df) > 0.8).astype(int)\n",
    "y_pred_test = y_pred_test.flatten()\n",
    "\n",
    "# Calculating evaluation metrics on the test set\n",
    "test_accuracy = accuracy_score(y_test, y_pred_test)\n",
    "test_precision = precision_score(y_test, y_pred_test)\n",
    "test_recall = recall_score(y_test, y_pred_test)\n",
    "test_f1 = f1_score(y_test, y_pred_test)\n",
    "test_roc_auc = roc_auc_score(y_test, y_pred_test)\n",
    "test_pr_auc = average_precision_score(y_test, y_pred_test)\n",
    "test_mcc = matthews_corrcoef(y_test, y_pred_test)\n",
    "test_g_mean = geometric_mean_score(y_test, y_pred_test)\n",
    "test_cm = confusion_matrix(y_test, y_pred_test)"
   ]
  },
  {
   "cell_type": "code",
   "execution_count": 29,
   "id": "7278437c",
   "metadata": {},
   "outputs": [
    {
     "data": {
      "text/plain": [
       "{'Accuracy': 0.9993153330290369,\n",
       " 'Precision': 0.7613636363636364,\n",
       " 'Recall': 0.788235294117647,\n",
       " 'F1 Score': <tf.Tensor: id=5726414, shape=(), dtype=float32, numpy=0.7745665>,\n",
       " 'ROC AUC Score': 0.8939330381659494,\n",
       " 'PR AUC': 0.6004496899800167,\n",
       " 'Matthews Correlation Coefficient': 0.7743405128449987,\n",
       " 'G-Mean': 0.8876622463683495,\n",
       " 'Confusion Matrix': array([[56856,    21],\n",
       "        [   18,    67]], dtype=int64)}"
      ]
     },
     "execution_count": 29,
     "metadata": {},
     "output_type": "execute_result"
    }
   ],
   "source": [
    "test_results = {\n",
    "    'Accuracy': test_accuracy,\n",
    "    'Precision': test_precision,\n",
    "    'Recall': test_recall,\n",
    "    'F1 Score': test_f1,\n",
    "    'ROC AUC Score': test_roc_auc,\n",
    "    'PR AUC': test_pr_auc,\n",
    "    'Matthews Correlation Coefficient': test_mcc,\n",
    "    'G-Mean': test_g_mean,\n",
    "    'Confusion Matrix': test_cm\n",
    "}\n",
    "\n",
    "test_results"
   ]
  },
  {
   "cell_type": "code",
   "execution_count": 30,
   "id": "bec530a4",
   "metadata": {},
   "outputs": [
    {
     "data": {
      "text/plain": [
       "0    56877\n",
       "1       85\n",
       "Name: Class, dtype: int64"
      ]
     },
     "execution_count": 30,
     "metadata": {},
     "output_type": "execute_result"
    }
   ],
   "source": [
    "y_test.value_counts()"
   ]
  },
  {
   "cell_type": "markdown",
   "id": "c0411dfa",
   "metadata": {},
   "source": [
    "## ROC - AUC"
   ]
  },
  {
   "cell_type": "code",
   "execution_count": 31,
   "id": "039148a6",
   "metadata": {},
   "outputs": [
    {
     "name": "stdout",
     "output_type": "stream",
     "text": [
      "WARNING:tensorflow:Falling back from v2 loop because of error: Failed to find data adapter that can handle input: <class 'pandas.core.frame.DataFrame'>, <class 'NoneType'>\n"
     ]
    },
    {
     "data": {
      "image/png": "[encoded data removed]",
      "text/plain": [
       "<Figure size 1000x800 with 1 Axes>"
      ]
     },
     "metadata": {},
     "output_type": "display_data"
    }
   ],
   "source": [
    "y_pred_prob_test = best_model.predict(test_df).flatten()\n",
    "\n",
    "fpr, tpr, thresholds = roc_curve(y_test, y_pred_prob_test)\n",
    "roc_auc = auc(fpr, tpr)\n",
    "\n",
    "plt.figure(figsize=(10, 8))\n",
    "plt.plot(fpr, tpr, color='darkorange', lw=2, label='ROC curve (area = %0.2f)' % roc_auc)\n",
    "plt.plot([0, 1], [0, 1], color='navy', lw=2, linestyle='--')\n",
    "plt.xlabel('False Positive Rate')\n",
    "plt.ylabel('True Positive Rate')\n",
    "plt.title('Receiver Operating Characteristic (ROC) Curve')\n",
    "plt.legend(loc=\"lower right\")\n",
    "plt.grid(True)\n",
    "plt.show()"
   ]
  },
  {
   "cell_type": "markdown",
   "id": "68a869ea",
   "metadata": {},
   "source": [
    "## PR - AUC"
   ]
  },
  {
   "cell_type": "code",
   "execution_count": 32,
   "id": "f6ff5dba",
   "metadata": {},
   "outputs": [
    {
     "data": {
      "image/png": "[encoded data removed]",
      "text/plain": [
       "<Figure size 800x600 with 1 Axes>"
      ]
     },
     "metadata": {},
     "output_type": "display_data"
    }
   ],
   "source": [
    "precision, recall, _ = precision_recall_curve(y_test, y_pred_prob_test)\n",
    "pr_auc = auc(recall, precision)\n",
    "\n",
    "plt.figure(figsize=(8, 6))\n",
    "plt.plot(recall, precision, color='navy', lw=2, label='PR curve (area = %0.2f)' % pr_auc)\n",
    "\n",
    "# Set the axis limits to start from 0\n",
    "plt.xlim([0.0, 1.0])\n",
    "plt.ylim([0.0, 1.0])\n",
    "\n",
    "plt.xlabel('Recall')\n",
    "plt.ylabel('Precision')\n",
    "plt.title('Precision-Recall Curve')\n",
    "plt.legend(loc=\"upper right\")\n",
    "plt.grid(True)\n",
    "plt.show()"
   ]
  },
  {
   "cell_type": "markdown",
   "id": "34e63e3b",
   "metadata": {},
   "source": [
    "## Confusion Matrix"
   ]
  },
  {
   "cell_type": "code",
   "execution_count": 33,
   "id": "d59a6252",
   "metadata": {},
   "outputs": [
    {
     "data": {
      "image/png": "[encoded data removed]",
      "text/plain": [
       "<Figure size 600x600 with 1 Axes>"
      ]
     },
     "metadata": {},
     "output_type": "display_data"
    }
   ],
   "source": [
    "plt.figure(figsize=(6, 6))\n",
    "sns.heatmap(confusion_matrix(y_test, y_pred_test), annot=True, fmt=\"d\", cmap=\"Blues\", cbar=False, \n",
    "            xticklabels=['Not Fraud (0)', 'Fraud (1)'], yticklabels=['Not Fraud (0)', 'Fraud (1)'])\n",
    "plt.xlabel('Predicted Label')\n",
    "plt.ylabel('True Label')\n",
    "plt.title('Confusion Matrix')\n",
    "plt.yticks(rotation=360)  \n",
    "plt.show()"
   ]
  }
 ],
 "metadata": {
  "kernelspec": {
   "display_name": "Python 3 (ipykernel)",
   "language": "python",
   "name": "python3"
  },
  "language_info": {
   "codemirror_mode": {
    "name": "ipython",
    "version": 3
   },
   "file_extension": ".py",
   "mimetype": "text/x-python",
   "name": "python",
   "nbconvert_exporter": "python",
   "pygments_lexer": "ipython3",
   "version": "3.7.1"
  }
 },
 "nbformat": 4,
 "nbformat_minor": 5
}
