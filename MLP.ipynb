{
 "cells": [
  {
   "cell_type": "code",
   "execution_count": 1,
   "id": "0ffa5c38",
   "metadata": {},
   "outputs": [],
   "source": [
    "import pandas as pd\n",
    "import numpy as np\n",
    "import seaborn as sns\n",
    "import matplotlib.pyplot as plt\n",
    "from sklearn.model_selection import train_test_split, StratifiedKFold\n",
    "from sklearn.preprocessing import StandardScaler\n",
    "from sklearn.metrics import accuracy_score, precision_score, recall_score, f1_score, roc_auc_score, average_precision_score, confusion_matrix, matthews_corrcoef, roc_curve, auc, precision_recall_curve, make_scorer\n",
    "from scipy.stats import gmean\n",
    "from imblearn.metrics import geometric_mean_score\n",
    "import tensorflow as tf\n",
    "from tensorflow.keras import backend as K\n",
    "from tensorflow.keras.models import Sequential\n",
    "from tensorflow.keras.layers import Dense, Dropout\n",
    "from tensorflow.keras.wrappers.scikit_learn import KerasClassifier\n",
    "from sklearn.utils.class_weight import compute_class_weight\n",
    "from skopt import BayesSearchCV\n",
    "from skopt.space import Real, Categorical, Integer"
   ]
  },
  {
   "cell_type": "markdown",
   "id": "bc26d56f",
   "metadata": {},
   "source": [
    "## Loading, Scaling and Spltting the data "
   ]
  },
  {
   "cell_type": "markdown",
   "id": "878d59cf",
   "metadata": {},
   "source": [
    "Since the entire dataset was PCA encoded and \"Time\" and \"Amount\" columns were left as it is, after loading the dataset, we scale only the \"Time\" and \"Amount\" columns in our dataset using StandardScaler() to maintain consistency."
   ]
  },
  {
   "cell_type": "code",
   "execution_count": 2,
   "id": "0285c12b",
   "metadata": {},
   "outputs": [],
   "source": [
    "# loading the dataset\n",
    "df = pd.read_csv(r\"C:\\Users\\Sana\\OneDrive\\Desktop\\creditcard.csv\")\n",
    "\n",
    "scaler = StandardScaler()\n",
    "df[['Time','Amount']] = scaler.fit_transform(df[['Time', 'Amount']])"
   ]
  },
  {
   "cell_type": "code",
   "execution_count": 3,
   "id": "d939afe0",
   "metadata": {},
   "outputs": [],
   "source": [
    "# Splitting the data into training, validation and testing sets in 60-20-20 ratio repectively \n",
    "X = df.drop('Class', axis=1)\n",
    "y = df['Class']\n",
    "\n",
    "X_train, X_temp, y_train, y_temp = train_test_split(X, y, stratify = y, test_size = 0.4, random_state = 42)\n",
    "X_val, X_test, y_val, y_test = train_test_split(X_temp, y_temp, test_size = 0.5, random_state = 42)"
   ]
  },
  {
   "cell_type": "code",
   "execution_count": 4,
   "id": "73f5c8fd",
   "metadata": {},
   "outputs": [
    {
     "data": {
      "text/plain": [
       "((170884, 30), (56961, 30), (56962, 30), (170884,), (56961,), (56962,))"
      ]
     },
     "execution_count": 4,
     "metadata": {},
     "output_type": "execute_result"
    }
   ],
   "source": [
    "X_train.shape, X_val.shape, X_test.shape, y_train.shape, y_val.shape, y_test.shape"
   ]
  },
  {
   "cell_type": "markdown",
   "id": "2609c7c4",
   "metadata": {},
   "source": [
    "## Evaluation Matrix"
   ]
  },
  {
   "cell_type": "markdown",
   "id": "29cf94a6",
   "metadata": {},
   "source": [
    "We make use of TensorFlow with Keras to build our MLP model. We need to define a custom function for Geometric Mean score, F1 score, and Matthews Correlation Coefficient since they are not directly available as built-in metrics in TensorFlow."
   ]
  },
  {
   "cell_type": "code",
   "execution_count": 5,
   "id": "f7792d10",
   "metadata": {},
   "outputs": [
    {
     "data": {
      "text/plain": [
       "['accuracy',\n",
       " <tensorflow.python.keras.metrics.Precision at 0x236021edcf8>,\n",
       " <tensorflow.python.keras.metrics.Recall at 0x23602218400>,\n",
       " <function __main__.f1_score(y_true, y_pred)>,\n",
       " <tensorflow.python.keras.metrics.AUC at 0x23602218be0>,\n",
       " <tensorflow.python.keras.metrics.AUC at 0x2360223f748>,\n",
       " <function __main__.matthews_correlation(y_true, y_pred)>,\n",
       " <function __main__.g_mean(y_true, y_pred)>]"
      ]
     },
     "execution_count": 5,
     "metadata": {},
     "output_type": "execute_result"
    }
   ],
   "source": [
    "# F1 Score\n",
    "def f1_score(y_true, y_pred):\n",
    "    precision = tf.keras.metrics.Precision()(y_true, y_pred)\n",
    "    recall = tf.keras.metrics.Recall()(y_true, y_pred)\n",
    "    return 2 * ((precision * recall) / (precision + recall + K.epsilon()))\n",
    "\n",
    "# Matthews correlation coefficient (MCC)\n",
    "def matthews_correlation(y_true, y_pred):\n",
    "    y_pred_pos = K.round(K.clip(y_pred, 0, 1))\n",
    "    y_pred_neg = 1 - y_pred_pos\n",
    "\n",
    "    y_pos = K.round(K.clip(y_true, 0, 1))\n",
    "    y_neg = 1 - y_pos\n",
    "\n",
    "    tp = K.sum(y_pos * y_pred_pos)\n",
    "    tn = K.sum(y_neg * y_pred_neg)\n",
    "\n",
    "    fp = K.sum(y_neg * y_pred_pos)\n",
    "    fn = K.sum(y_pos * y_pred_neg)\n",
    "\n",
    "    numerator = (tp * tn - fp * fn)\n",
    "    denominator = K.sqrt((tp + fp) * (tp + fn) * (tn + fp) * (tn + fn))\n",
    "\n",
    "    return numerator / (denominator + K.epsilon())\n",
    "\n",
    "# G-Mean: Geometric mean of specificity and sensitivity\n",
    "def g_mean(y_true, y_pred):\n",
    "    sensitivity = tf.keras.metrics.Recall()(y_true, y_pred)\n",
    "    specificity = tf.keras.metrics.Recall()(1-y_true, 1-y_pred)\n",
    "    return K.sqrt(sensitivity * specificity)\n",
    "\n",
    "# List of metrics\n",
    "metrics = ['accuracy', tf.keras.metrics.Precision(name='precision'), tf.keras.metrics.Recall(name='recall'), \n",
    "           f1_score, tf.keras.metrics.AUC(name='roc_auc'), tf.keras.metrics.AUC(name='auprc', curve='PR'), \n",
    "           matthews_correlation, g_mean]\n",
    "\n",
    "metrics"
   ]
  },
  {
   "cell_type": "markdown",
   "id": "f02e2c9b",
   "metadata": {},
   "source": [
    "## MLP Model"
   ]
  },
  {
   "cell_type": "markdown",
   "id": "00626662",
   "metadata": {},
   "source": [
    "We define an MLP model having a sequential architecture containing an input layer with dimension \"X_train.shape[1]\" and 64 neurons, a hidden layer with 64 neurons and an output layer with 1 neuron. This model also consists of two Dropout layers which helps in preventing overfitting. \n",
    "\n",
    "\"X_train.shape[1]\" is nothing but the number of columns in X_train.\n",
    "\n",
    "We utilise activation function 'relu' for our input layer and hidden layers and 'sigmoid' for output layer. Activation function introduces non-linearity to the model which helps the model capture more complex patterns. \n",
    "\n",
    "We use 'adam' as our optimizer and 'binary_crossentropy' as the loss function during the training process as it is apt for binary classification problems. All the metrics specified in 'metrics' list are used to check the model's performance."
   ]
  },
  {
   "cell_type": "code",
   "execution_count": 6,
   "id": "caa68c4e",
   "metadata": {},
   "outputs": [],
   "source": [
    "def mlp_model(hidden_units_1= 64, hidden_units_2= 64, dropout_rate= 0.5):\n",
    "    model = tf.keras.Sequential([\n",
    "        tf.keras.layers.Dense(hidden_units_1, activation= 'relu', input_dim= X_train.shape[1]),\n",
    "        tf.keras.layers.Dropout(dropout_rate),\n",
    "        tf.keras.layers.Dense(hidden_units_2, activation= 'relu'),\n",
    "        tf.keras.layers.Dropout(dropout_rate),\n",
    "        tf.keras.layers.Dense(1, activation= 'sigmoid')\n",
    "    ])\n",
    "    model.compile(optimizer= 'adam', loss= 'binary_crossentropy', metrics=metrics)\n",
    "    return model"
   ]
  },
  {
   "cell_type": "markdown",
   "id": "7af48e1f",
   "metadata": {},
   "source": [
    "We 'wrap' the model in KerasClassifier in order to use scikit learn for hyperparameter tuning and stratified k-fold cross validation later. "
   ]
  },
  {
   "cell_type": "code",
   "execution_count": 7,
   "id": "e73c86ba",
   "metadata": {},
   "outputs": [],
   "source": [
    "# Wrapping the model with KerasClassifier\n",
    "model = KerasClassifier(build_fn= mlp_model, epochs= 10, batch_size= 256, verbose= 0)"
   ]
  },
  {
   "cell_type": "markdown",
   "id": "e2be8c79",
   "metadata": {},
   "source": [
    "We perform hyperparameter tuning using BayesSearchCV which uses Bayesian optimization to search for the best parameters from the search space provided. \n",
    "\n",
    "To incorporate cost sensitive learning, we also define weights so that minority class is given more importance."
   ]
  },
  {
   "cell_type": "code",
   "execution_count": 8,
   "id": "99fa8cdd",
   "metadata": {},
   "outputs": [],
   "source": [
    "search_space = {\n",
    "    'hidden_units_1': Integer(32, 256),\n",
    "    'hidden_units_2': Integer(32, 256),\n",
    "    'dropout_rate': Real(0.2, 0.7)\n",
    "}\n",
    "\n",
    "stratified_kfold = StratifiedKFold(n_splits=5, shuffle=True, random_state=42)"
   ]
  },
  {
   "cell_type": "code",
   "execution_count": 9,
   "id": "e79ec241",
   "metadata": {},
   "outputs": [],
   "source": [
    "# Initialising BayesSearchCV\n",
    "bayes_search = BayesSearchCV(model, search_spaces=search_space, n_iter=15, scoring='precision', cv=stratified_kfold, n_jobs=1, verbose=1, random_state=42)"
   ]
  },
  {
   "cell_type": "code",
   "execution_count": 10,
   "id": "c6df686b",
   "metadata": {},
   "outputs": [],
   "source": [
    "# Calculate class weights\n",
    "weights = compute_class_weight('balanced', classes=[0, 1], y=y_train)\n",
    "class_weights = {0: weights[0], 1: weights[1]}\n",
    "\n",
    "# Create sample weights for training data using NumPy indexing\n",
    "sample_weights = np.array([class_weights[label] for label in y_train])"
   ]
  },
  {
   "cell_type": "code",
   "execution_count": 11,
   "id": "05c2e129",
   "metadata": {},
   "outputs": [
    {
     "data": {
      "text/plain": [
       "array([0.50086465, 0.50086465, 0.50086465, ..., 0.50086465, 0.50086465,\n",
       "       0.50086465])"
      ]
     },
     "execution_count": 11,
     "metadata": {},
     "output_type": "execute_result"
    }
   ],
   "source": [
    "sample_weights"
   ]
  },
  {
   "cell_type": "code",
   "execution_count": 12,
   "id": "d5c99bf1",
   "metadata": {},
   "outputs": [
    {
     "name": "stdout",
     "output_type": "stream",
     "text": [
      "Fitting 5 folds for each of 1 candidates, totalling 5 fits\n",
      "WARNING:tensorflow:Falling back from v2 loop because of error: Failed to find data adapter that can handle input: <class 'pandas.core.frame.DataFrame'>, <class 'NoneType'>\n",
      "WARNING:tensorflow:Falling back from v2 loop because of error: Failed to find data adapter that can handle input: <class 'pandas.core.frame.DataFrame'>, <class 'NoneType'>\n",
      "WARNING:tensorflow:Falling back from v2 loop because of error: Failed to find data adapter that can handle input: <class 'pandas.core.frame.DataFrame'>, <class 'NoneType'>\n",
      "WARNING:tensorflow:Falling back from v2 loop because of error: Failed to find data adapter that can handle input: <class 'pandas.core.frame.DataFrame'>, <class 'NoneType'>\n",
      "WARNING:tensorflow:Falling back from v2 loop because of error: Failed to find data adapter that can handle input: <class 'pandas.core.frame.DataFrame'>, <class 'NoneType'>\n",
      "WARNING:tensorflow:Falling back from v2 loop because of error: Failed to find data adapter that can handle input: <class 'pandas.core.frame.DataFrame'>, <class 'NoneType'>\n",
      "WARNING:tensorflow:Falling back from v2 loop because of error: Failed to find data adapter that can handle input: <class 'pandas.core.frame.DataFrame'>, <class 'NoneType'>\n",
      "WARNING:tensorflow:Falling back from v2 loop because of error: Failed to find data adapter that can handle input: <class 'pandas.core.frame.DataFrame'>, <class 'NoneType'>\n",
      "WARNING:tensorflow:Falling back from v2 loop because of error: Failed to find data adapter that can handle input: <class 'pandas.core.frame.DataFrame'>, <class 'NoneType'>\n",
      "WARNING:tensorflow:Falling back from v2 loop because of error: Failed to find data adapter that can handle input: <class 'pandas.core.frame.DataFrame'>, <class 'NoneType'>\n",
      "Fitting 5 folds for each of 1 candidates, totalling 5 fits\n",
      "WARNING:tensorflow:Large dropout rate: 0.618694 (>0.5). In TensorFlow 2.x, dropout() uses dropout rate instead of keep_prob. Please ensure that this is intended.\n",
      "WARNING:tensorflow:Large dropout rate: 0.618694 (>0.5). In TensorFlow 2.x, dropout() uses dropout rate instead of keep_prob. Please ensure that this is intended.\n",
      "WARNING:tensorflow:Falling back from v2 loop because of error: Failed to find data adapter that can handle input: <class 'pandas.core.frame.DataFrame'>, <class 'NoneType'>\n",
      "WARNING:tensorflow:Falling back from v2 loop because of error: Failed to find data adapter that can handle input: <class 'pandas.core.frame.DataFrame'>, <class 'NoneType'>\n",
      "WARNING:tensorflow:Large dropout rate: 0.618694 (>0.5). In TensorFlow 2.x, dropout() uses dropout rate instead of keep_prob. Please ensure that this is intended.\n",
      "WARNING:tensorflow:Large dropout rate: 0.618694 (>0.5). In TensorFlow 2.x, dropout() uses dropout rate instead of keep_prob. Please ensure that this is intended.\n",
      "WARNING:tensorflow:Falling back from v2 loop because of error: Failed to find data adapter that can handle input: <class 'pandas.core.frame.DataFrame'>, <class 'NoneType'>\n",
      "WARNING:tensorflow:Falling back from v2 loop because of error: Failed to find data adapter that can handle input: <class 'pandas.core.frame.DataFrame'>, <class 'NoneType'>\n",
      "WARNING:tensorflow:Large dropout rate: 0.618694 (>0.5). In TensorFlow 2.x, dropout() uses dropout rate instead of keep_prob. Please ensure that this is intended.\n",
      "WARNING:tensorflow:Falling back from v2 loop because of error: Failed to find data adapter that can handle input: <class 'pandas.core.frame.DataFrame'>, <class 'NoneType'>\n",
      "WARNING:tensorflow:Falling back from v2 loop because of error: Failed to find data adapter that can handle input: <class 'pandas.core.frame.DataFrame'>, <class 'NoneType'>\n",
      "WARNING:tensorflow:Falling back from v2 loop because of error: Failed to find data adapter that can handle input: <class 'pandas.core.frame.DataFrame'>, <class 'NoneType'>\n",
      "WARNING:tensorflow:Falling back from v2 loop because of error: Failed to find data adapter that can handle input: <class 'pandas.core.frame.DataFrame'>, <class 'NoneType'>\n",
      "WARNING:tensorflow:Falling back from v2 loop because of error: Failed to find data adapter that can handle input: <class 'pandas.core.frame.DataFrame'>, <class 'NoneType'>\n",
      "WARNING:tensorflow:Falling back from v2 loop because of error: Failed to find data adapter that can handle input: <class 'pandas.core.frame.DataFrame'>, <class 'NoneType'>\n",
      "Fitting 5 folds for each of 1 candidates, totalling 5 fits\n",
      "WARNING:tensorflow:Falling back from v2 loop because of error: Failed to find data adapter that can handle input: <class 'pandas.core.frame.DataFrame'>, <class 'NoneType'>\n",
      "WARNING:tensorflow:Falling back from v2 loop because of error: Failed to find data adapter that can handle input: <class 'pandas.core.frame.DataFrame'>, <class 'NoneType'>\n",
      "WARNING:tensorflow:Falling back from v2 loop because of error: Failed to find data adapter that can handle input: <class 'pandas.core.frame.DataFrame'>, <class 'NoneType'>\n",
      "WARNING:tensorflow:Falling back from v2 loop because of error: Failed to find data adapter that can handle input: <class 'pandas.core.frame.DataFrame'>, <class 'NoneType'>\n",
      "WARNING:tensorflow:Falling back from v2 loop because of error: Failed to find data adapter that can handle input: <class 'pandas.core.frame.DataFrame'>, <class 'NoneType'>\n",
      "WARNING:tensorflow:Falling back from v2 loop because of error: Failed to find data adapter that can handle input: <class 'pandas.core.frame.DataFrame'>, <class 'NoneType'>\n",
      "WARNING:tensorflow:Falling back from v2 loop because of error: Failed to find data adapter that can handle input: <class 'pandas.core.frame.DataFrame'>, <class 'NoneType'>\n",
      "WARNING:tensorflow:Falling back from v2 loop because of error: Failed to find data adapter that can handle input: <class 'pandas.core.frame.DataFrame'>, <class 'NoneType'>\n",
      "WARNING:tensorflow:Falling back from v2 loop because of error: Failed to find data adapter that can handle input: <class 'pandas.core.frame.DataFrame'>, <class 'NoneType'>\n",
      "WARNING:tensorflow:Falling back from v2 loop because of error: Failed to find data adapter that can handle input: <class 'pandas.core.frame.DataFrame'>, <class 'NoneType'>\n",
      "Fitting 5 folds for each of 1 candidates, totalling 5 fits\n",
      "WARNING:tensorflow:Falling back from v2 loop because of error: Failed to find data adapter that can handle input: <class 'pandas.core.frame.DataFrame'>, <class 'NoneType'>\n",
      "WARNING:tensorflow:Falling back from v2 loop because of error: Failed to find data adapter that can handle input: <class 'pandas.core.frame.DataFrame'>, <class 'NoneType'>\n",
      "WARNING:tensorflow:Falling back from v2 loop because of error: Failed to find data adapter that can handle input: <class 'pandas.core.frame.DataFrame'>, <class 'NoneType'>\n",
      "WARNING:tensorflow:Falling back from v2 loop because of error: Failed to find data adapter that can handle input: <class 'pandas.core.frame.DataFrame'>, <class 'NoneType'>\n",
      "WARNING:tensorflow:Falling back from v2 loop because of error: Failed to find data adapter that can handle input: <class 'pandas.core.frame.DataFrame'>, <class 'NoneType'>\n",
      "WARNING:tensorflow:Falling back from v2 loop because of error: Failed to find data adapter that can handle input: <class 'pandas.core.frame.DataFrame'>, <class 'NoneType'>\n",
      "WARNING:tensorflow:Falling back from v2 loop because of error: Failed to find data adapter that can handle input: <class 'pandas.core.frame.DataFrame'>, <class 'NoneType'>\n",
      "WARNING:tensorflow:Falling back from v2 loop because of error: Failed to find data adapter that can handle input: <class 'pandas.core.frame.DataFrame'>, <class 'NoneType'>\n",
      "WARNING:tensorflow:Falling back from v2 loop because of error: Failed to find data adapter that can handle input: <class 'pandas.core.frame.DataFrame'>, <class 'NoneType'>\n",
      "WARNING:tensorflow:Falling back from v2 loop because of error: Failed to find data adapter that can handle input: <class 'pandas.core.frame.DataFrame'>, <class 'NoneType'>\n",
      "Fitting 5 folds for each of 1 candidates, totalling 5 fits\n",
      "WARNING:tensorflow:Falling back from v2 loop because of error: Failed to find data adapter that can handle input: <class 'pandas.core.frame.DataFrame'>, <class 'NoneType'>\n",
      "WARNING:tensorflow:Falling back from v2 loop because of error: Failed to find data adapter that can handle input: <class 'pandas.core.frame.DataFrame'>, <class 'NoneType'>\n",
      "WARNING:tensorflow:Falling back from v2 loop because of error: Failed to find data adapter that can handle input: <class 'pandas.core.frame.DataFrame'>, <class 'NoneType'>\n",
      "WARNING:tensorflow:Falling back from v2 loop because of error: Failed to find data adapter that can handle input: <class 'pandas.core.frame.DataFrame'>, <class 'NoneType'>\n",
      "WARNING:tensorflow:Falling back from v2 loop because of error: Failed to find data adapter that can handle input: <class 'pandas.core.frame.DataFrame'>, <class 'NoneType'>\n",
      "WARNING:tensorflow:Falling back from v2 loop because of error: Failed to find data adapter that can handle input: <class 'pandas.core.frame.DataFrame'>, <class 'NoneType'>\n",
      "WARNING:tensorflow:Falling back from v2 loop because of error: Failed to find data adapter that can handle input: <class 'pandas.core.frame.DataFrame'>, <class 'NoneType'>\n",
      "WARNING:tensorflow:Falling back from v2 loop because of error: Failed to find data adapter that can handle input: <class 'pandas.core.frame.DataFrame'>, <class 'NoneType'>\n",
      "WARNING:tensorflow:Falling back from v2 loop because of error: Failed to find data adapter that can handle input: <class 'pandas.core.frame.DataFrame'>, <class 'NoneType'>\n",
      "WARNING:tensorflow:Falling back from v2 loop because of error: Failed to find data adapter that can handle input: <class 'pandas.core.frame.DataFrame'>, <class 'NoneType'>\n",
      "Fitting 5 folds for each of 1 candidates, totalling 5 fits\n",
      "WARNING:tensorflow:Falling back from v2 loop because of error: Failed to find data adapter that can handle input: <class 'pandas.core.frame.DataFrame'>, <class 'NoneType'>\n",
      "WARNING:tensorflow:Falling back from v2 loop because of error: Failed to find data adapter that can handle input: <class 'pandas.core.frame.DataFrame'>, <class 'NoneType'>\n",
      "WARNING:tensorflow:Falling back from v2 loop because of error: Failed to find data adapter that can handle input: <class 'pandas.core.frame.DataFrame'>, <class 'NoneType'>\n",
      "WARNING:tensorflow:Falling back from v2 loop because of error: Failed to find data adapter that can handle input: <class 'pandas.core.frame.DataFrame'>, <class 'NoneType'>\n",
      "WARNING:tensorflow:Falling back from v2 loop because of error: Failed to find data adapter that can handle input: <class 'pandas.core.frame.DataFrame'>, <class 'NoneType'>\n",
      "WARNING:tensorflow:Falling back from v2 loop because of error: Failed to find data adapter that can handle input: <class 'pandas.core.frame.DataFrame'>, <class 'NoneType'>\n",
      "WARNING:tensorflow:Falling back from v2 loop because of error: Failed to find data adapter that can handle input: <class 'pandas.core.frame.DataFrame'>, <class 'NoneType'>\n",
      "WARNING:tensorflow:Falling back from v2 loop because of error: Failed to find data adapter that can handle input: <class 'pandas.core.frame.DataFrame'>, <class 'NoneType'>\n",
      "WARNING:tensorflow:Falling back from v2 loop because of error: Failed to find data adapter that can handle input: <class 'pandas.core.frame.DataFrame'>, <class 'NoneType'>\n",
      "WARNING:tensorflow:Falling back from v2 loop because of error: Failed to find data adapter that can handle input: <class 'pandas.core.frame.DataFrame'>, <class 'NoneType'>\n",
      "Fitting 5 folds for each of 1 candidates, totalling 5 fits\n",
      "WARNING:tensorflow:Falling back from v2 loop because of error: Failed to find data adapter that can handle input: <class 'pandas.core.frame.DataFrame'>, <class 'NoneType'>\n",
      "WARNING:tensorflow:Falling back from v2 loop because of error: Failed to find data adapter that can handle input: <class 'pandas.core.frame.DataFrame'>, <class 'NoneType'>\n",
      "WARNING:tensorflow:Falling back from v2 loop because of error: Failed to find data adapter that can handle input: <class 'pandas.core.frame.DataFrame'>, <class 'NoneType'>\n",
      "WARNING:tensorflow:Falling back from v2 loop because of error: Failed to find data adapter that can handle input: <class 'pandas.core.frame.DataFrame'>, <class 'NoneType'>\n",
      "WARNING:tensorflow:Falling back from v2 loop because of error: Failed to find data adapter that can handle input: <class 'pandas.core.frame.DataFrame'>, <class 'NoneType'>\n",
      "WARNING:tensorflow:Falling back from v2 loop because of error: Failed to find data adapter that can handle input: <class 'pandas.core.frame.DataFrame'>, <class 'NoneType'>\n",
      "WARNING:tensorflow:Falling back from v2 loop because of error: Failed to find data adapter that can handle input: <class 'pandas.core.frame.DataFrame'>, <class 'NoneType'>\n",
      "WARNING:tensorflow:Falling back from v2 loop because of error: Failed to find data adapter that can handle input: <class 'pandas.core.frame.DataFrame'>, <class 'NoneType'>\n",
      "WARNING:tensorflow:Falling back from v2 loop because of error: Failed to find data adapter that can handle input: <class 'pandas.core.frame.DataFrame'>, <class 'NoneType'>\n",
      "WARNING:tensorflow:Falling back from v2 loop because of error: Failed to find data adapter that can handle input: <class 'pandas.core.frame.DataFrame'>, <class 'NoneType'>\n",
      "Fitting 5 folds for each of 1 candidates, totalling 5 fits\n",
      "WARNING:tensorflow:Falling back from v2 loop because of error: Failed to find data adapter that can handle input: <class 'pandas.core.frame.DataFrame'>, <class 'NoneType'>\n",
      "WARNING:tensorflow:Falling back from v2 loop because of error: Failed to find data adapter that can handle input: <class 'pandas.core.frame.DataFrame'>, <class 'NoneType'>\n",
      "WARNING:tensorflow:Falling back from v2 loop because of error: Failed to find data adapter that can handle input: <class 'pandas.core.frame.DataFrame'>, <class 'NoneType'>\n",
      "WARNING:tensorflow:Falling back from v2 loop because of error: Failed to find data adapter that can handle input: <class 'pandas.core.frame.DataFrame'>, <class 'NoneType'>\n",
      "WARNING:tensorflow:Falling back from v2 loop because of error: Failed to find data adapter that can handle input: <class 'pandas.core.frame.DataFrame'>, <class 'NoneType'>\n",
      "WARNING:tensorflow:Falling back from v2 loop because of error: Failed to find data adapter that can handle input: <class 'pandas.core.frame.DataFrame'>, <class 'NoneType'>\n",
      "WARNING:tensorflow:Falling back from v2 loop because of error: Failed to find data adapter that can handle input: <class 'pandas.core.frame.DataFrame'>, <class 'NoneType'>\n",
      "WARNING:tensorflow:Falling back from v2 loop because of error: Failed to find data adapter that can handle input: <class 'pandas.core.frame.DataFrame'>, <class 'NoneType'>\n",
      "WARNING:tensorflow:Falling back from v2 loop because of error: Failed to find data adapter that can handle input: <class 'pandas.core.frame.DataFrame'>, <class 'NoneType'>\n",
      "WARNING:tensorflow:Falling back from v2 loop because of error: Failed to find data adapter that can handle input: <class 'pandas.core.frame.DataFrame'>, <class 'NoneType'>\n",
      "Fitting 5 folds for each of 1 candidates, totalling 5 fits\n",
      "WARNING:tensorflow:Falling back from v2 loop because of error: Failed to find data adapter that can handle input: <class 'pandas.core.frame.DataFrame'>, <class 'NoneType'>\n",
      "WARNING:tensorflow:Falling back from v2 loop because of error: Failed to find data adapter that can handle input: <class 'pandas.core.frame.DataFrame'>, <class 'NoneType'>\n",
      "WARNING:tensorflow:Falling back from v2 loop because of error: Failed to find data adapter that can handle input: <class 'pandas.core.frame.DataFrame'>, <class 'NoneType'>\n",
      "WARNING:tensorflow:Falling back from v2 loop because of error: Failed to find data adapter that can handle input: <class 'pandas.core.frame.DataFrame'>, <class 'NoneType'>\n",
      "WARNING:tensorflow:Falling back from v2 loop because of error: Failed to find data adapter that can handle input: <class 'pandas.core.frame.DataFrame'>, <class 'NoneType'>\n",
      "WARNING:tensorflow:Falling back from v2 loop because of error: Failed to find data adapter that can handle input: <class 'pandas.core.frame.DataFrame'>, <class 'NoneType'>\n",
      "WARNING:tensorflow:Falling back from v2 loop because of error: Failed to find data adapter that can handle input: <class 'pandas.core.frame.DataFrame'>, <class 'NoneType'>\n",
      "WARNING:tensorflow:Falling back from v2 loop because of error: Failed to find data adapter that can handle input: <class 'pandas.core.frame.DataFrame'>, <class 'NoneType'>\n",
      "WARNING:tensorflow:Falling back from v2 loop because of error: Failed to find data adapter that can handle input: <class 'pandas.core.frame.DataFrame'>, <class 'NoneType'>\n",
      "WARNING:tensorflow:Falling back from v2 loop because of error: Failed to find data adapter that can handle input: <class 'pandas.core.frame.DataFrame'>, <class 'NoneType'>\n",
      "Fitting 5 folds for each of 1 candidates, totalling 5 fits\n",
      "WARNING:tensorflow:Falling back from v2 loop because of error: Failed to find data adapter that can handle input: <class 'pandas.core.frame.DataFrame'>, <class 'NoneType'>\n",
      "WARNING:tensorflow:Falling back from v2 loop because of error: Failed to find data adapter that can handle input: <class 'pandas.core.frame.DataFrame'>, <class 'NoneType'>\n",
      "WARNING:tensorflow:Falling back from v2 loop because of error: Failed to find data adapter that can handle input: <class 'pandas.core.frame.DataFrame'>, <class 'NoneType'>\n",
      "WARNING:tensorflow:Falling back from v2 loop because of error: Failed to find data adapter that can handle input: <class 'pandas.core.frame.DataFrame'>, <class 'NoneType'>\n",
      "WARNING:tensorflow:Falling back from v2 loop because of error: Failed to find data adapter that can handle input: <class 'pandas.core.frame.DataFrame'>, <class 'NoneType'>\n",
      "WARNING:tensorflow:Falling back from v2 loop because of error: Failed to find data adapter that can handle input: <class 'pandas.core.frame.DataFrame'>, <class 'NoneType'>\n",
      "WARNING:tensorflow:Falling back from v2 loop because of error: Failed to find data adapter that can handle input: <class 'pandas.core.frame.DataFrame'>, <class 'NoneType'>\n",
      "WARNING:tensorflow:Falling back from v2 loop because of error: Failed to find data adapter that can handle input: <class 'pandas.core.frame.DataFrame'>, <class 'NoneType'>\n",
      "WARNING:tensorflow:Falling back from v2 loop because of error: Failed to find data adapter that can handle input: <class 'pandas.core.frame.DataFrame'>, <class 'NoneType'>\n",
      "WARNING:tensorflow:Falling back from v2 loop because of error: Failed to find data adapter that can handle input: <class 'pandas.core.frame.DataFrame'>, <class 'NoneType'>\n",
      "Fitting 5 folds for each of 1 candidates, totalling 5 fits\n",
      "WARNING:tensorflow:Falling back from v2 loop because of error: Failed to find data adapter that can handle input: <class 'pandas.core.frame.DataFrame'>, <class 'NoneType'>\n",
      "WARNING:tensorflow:Falling back from v2 loop because of error: Failed to find data adapter that can handle input: <class 'pandas.core.frame.DataFrame'>, <class 'NoneType'>\n",
      "WARNING:tensorflow:Falling back from v2 loop because of error: Failed to find data adapter that can handle input: <class 'pandas.core.frame.DataFrame'>, <class 'NoneType'>\n",
      "WARNING:tensorflow:Falling back from v2 loop because of error: Failed to find data adapter that can handle input: <class 'pandas.core.frame.DataFrame'>, <class 'NoneType'>\n",
      "WARNING:tensorflow:Falling back from v2 loop because of error: Failed to find data adapter that can handle input: <class 'pandas.core.frame.DataFrame'>, <class 'NoneType'>\n",
      "WARNING:tensorflow:Falling back from v2 loop because of error: Failed to find data adapter that can handle input: <class 'pandas.core.frame.DataFrame'>, <class 'NoneType'>\n",
      "WARNING:tensorflow:Falling back from v2 loop because of error: Failed to find data adapter that can handle input: <class 'pandas.core.frame.DataFrame'>, <class 'NoneType'>\n",
      "WARNING:tensorflow:Falling back from v2 loop because of error: Failed to find data adapter that can handle input: <class 'pandas.core.frame.DataFrame'>, <class 'NoneType'>\n",
      "WARNING:tensorflow:Falling back from v2 loop because of error: Failed to find data adapter that can handle input: <class 'pandas.core.frame.DataFrame'>, <class 'NoneType'>\n",
      "WARNING:tensorflow:Falling back from v2 loop because of error: Failed to find data adapter that can handle input: <class 'pandas.core.frame.DataFrame'>, <class 'NoneType'>\n",
      "Fitting 5 folds for each of 1 candidates, totalling 5 fits\n",
      "WARNING:tensorflow:Falling back from v2 loop because of error: Failed to find data adapter that can handle input: <class 'pandas.core.frame.DataFrame'>, <class 'NoneType'>\n",
      "WARNING:tensorflow:Falling back from v2 loop because of error: Failed to find data adapter that can handle input: <class 'pandas.core.frame.DataFrame'>, <class 'NoneType'>\n",
      "WARNING:tensorflow:Falling back from v2 loop because of error: Failed to find data adapter that can handle input: <class 'pandas.core.frame.DataFrame'>, <class 'NoneType'>\n",
      "WARNING:tensorflow:Falling back from v2 loop because of error: Failed to find data adapter that can handle input: <class 'pandas.core.frame.DataFrame'>, <class 'NoneType'>\n",
      "WARNING:tensorflow:Falling back from v2 loop because of error: Failed to find data adapter that can handle input: <class 'pandas.core.frame.DataFrame'>, <class 'NoneType'>\n",
      "WARNING:tensorflow:Falling back from v2 loop because of error: Failed to find data adapter that can handle input: <class 'pandas.core.frame.DataFrame'>, <class 'NoneType'>\n",
      "WARNING:tensorflow:Falling back from v2 loop because of error: Failed to find data adapter that can handle input: <class 'pandas.core.frame.DataFrame'>, <class 'NoneType'>\n",
      "WARNING:tensorflow:Falling back from v2 loop because of error: Failed to find data adapter that can handle input: <class 'pandas.core.frame.DataFrame'>, <class 'NoneType'>\n",
      "WARNING:tensorflow:Falling back from v2 loop because of error: Failed to find data adapter that can handle input: <class 'pandas.core.frame.DataFrame'>, <class 'NoneType'>\n",
      "WARNING:tensorflow:Falling back from v2 loop because of error: Failed to find data adapter that can handle input: <class 'pandas.core.frame.DataFrame'>, <class 'NoneType'>\n",
      "Fitting 5 folds for each of 1 candidates, totalling 5 fits\n",
      "WARNING:tensorflow:Falling back from v2 loop because of error: Failed to find data adapter that can handle input: <class 'pandas.core.frame.DataFrame'>, <class 'NoneType'>\n",
      "WARNING:tensorflow:Falling back from v2 loop because of error: Failed to find data adapter that can handle input: <class 'pandas.core.frame.DataFrame'>, <class 'NoneType'>\n",
      "WARNING:tensorflow:Falling back from v2 loop because of error: Failed to find data adapter that can handle input: <class 'pandas.core.frame.DataFrame'>, <class 'NoneType'>\n",
      "WARNING:tensorflow:Falling back from v2 loop because of error: Failed to find data adapter that can handle input: <class 'pandas.core.frame.DataFrame'>, <class 'NoneType'>\n",
      "WARNING:tensorflow:Falling back from v2 loop because of error: Failed to find data adapter that can handle input: <class 'pandas.core.frame.DataFrame'>, <class 'NoneType'>\n",
      "WARNING:tensorflow:Falling back from v2 loop because of error: Failed to find data adapter that can handle input: <class 'pandas.core.frame.DataFrame'>, <class 'NoneType'>\n",
      "WARNING:tensorflow:Falling back from v2 loop because of error: Failed to find data adapter that can handle input: <class 'pandas.core.frame.DataFrame'>, <class 'NoneType'>\n",
      "WARNING:tensorflow:Falling back from v2 loop because of error: Failed to find data adapter that can handle input: <class 'pandas.core.frame.DataFrame'>, <class 'NoneType'>\n",
      "WARNING:tensorflow:Falling back from v2 loop because of error: Failed to find data adapter that can handle input: <class 'pandas.core.frame.DataFrame'>, <class 'NoneType'>\n",
      "WARNING:tensorflow:Falling back from v2 loop because of error: Failed to find data adapter that can handle input: <class 'pandas.core.frame.DataFrame'>, <class 'NoneType'>\n",
      "Fitting 5 folds for each of 1 candidates, totalling 5 fits\n",
      "WARNING:tensorflow:Falling back from v2 loop because of error: Failed to find data adapter that can handle input: <class 'pandas.core.frame.DataFrame'>, <class 'NoneType'>\n",
      "WARNING:tensorflow:Falling back from v2 loop because of error: Failed to find data adapter that can handle input: <class 'pandas.core.frame.DataFrame'>, <class 'NoneType'>\n",
      "WARNING:tensorflow:Falling back from v2 loop because of error: Failed to find data adapter that can handle input: <class 'pandas.core.frame.DataFrame'>, <class 'NoneType'>\n",
      "WARNING:tensorflow:Falling back from v2 loop because of error: Failed to find data adapter that can handle input: <class 'pandas.core.frame.DataFrame'>, <class 'NoneType'>\n",
      "WARNING:tensorflow:Falling back from v2 loop because of error: Failed to find data adapter that can handle input: <class 'pandas.core.frame.DataFrame'>, <class 'NoneType'>\n",
      "WARNING:tensorflow:Falling back from v2 loop because of error: Failed to find data adapter that can handle input: <class 'pandas.core.frame.DataFrame'>, <class 'NoneType'>\n",
      "WARNING:tensorflow:Falling back from v2 loop because of error: Failed to find data adapter that can handle input: <class 'pandas.core.frame.DataFrame'>, <class 'NoneType'>\n",
      "WARNING:tensorflow:Falling back from v2 loop because of error: Failed to find data adapter that can handle input: <class 'pandas.core.frame.DataFrame'>, <class 'NoneType'>\n",
      "WARNING:tensorflow:Falling back from v2 loop because of error: Failed to find data adapter that can handle input: <class 'pandas.core.frame.DataFrame'>, <class 'NoneType'>\n",
      "WARNING:tensorflow:Falling back from v2 loop because of error: Failed to find data adapter that can handle input: <class 'pandas.core.frame.DataFrame'>, <class 'NoneType'>\n",
      "Fitting 5 folds for each of 1 candidates, totalling 5 fits\n",
      "WARNING:tensorflow:Falling back from v2 loop because of error: Failed to find data adapter that can handle input: <class 'pandas.core.frame.DataFrame'>, <class 'NoneType'>\n",
      "WARNING:tensorflow:Falling back from v2 loop because of error: Failed to find data adapter that can handle input: <class 'pandas.core.frame.DataFrame'>, <class 'NoneType'>\n",
      "WARNING:tensorflow:Falling back from v2 loop because of error: Failed to find data adapter that can handle input: <class 'pandas.core.frame.DataFrame'>, <class 'NoneType'>\n",
      "WARNING:tensorflow:Falling back from v2 loop because of error: Failed to find data adapter that can handle input: <class 'pandas.core.frame.DataFrame'>, <class 'NoneType'>\n",
      "WARNING:tensorflow:Falling back from v2 loop because of error: Failed to find data adapter that can handle input: <class 'pandas.core.frame.DataFrame'>, <class 'NoneType'>\n",
      "WARNING:tensorflow:Falling back from v2 loop because of error: Failed to find data adapter that can handle input: <class 'pandas.core.frame.DataFrame'>, <class 'NoneType'>\n",
      "WARNING:tensorflow:Falling back from v2 loop because of error: Failed to find data adapter that can handle input: <class 'pandas.core.frame.DataFrame'>, <class 'NoneType'>\n",
      "WARNING:tensorflow:Falling back from v2 loop because of error: Failed to find data adapter that can handle input: <class 'pandas.core.frame.DataFrame'>, <class 'NoneType'>\n",
      "WARNING:tensorflow:Falling back from v2 loop because of error: Failed to find data adapter that can handle input: <class 'pandas.core.frame.DataFrame'>, <class 'NoneType'>\n",
      "WARNING:tensorflow:Falling back from v2 loop because of error: Failed to find data adapter that can handle input: <class 'pandas.core.frame.DataFrame'>, <class 'NoneType'>\n",
      "WARNING:tensorflow:Falling back from v2 loop because of error: Failed to find data adapter that can handle input: <class 'pandas.core.frame.DataFrame'>, <class 'NoneType'>\n"
     ]
    },
    {
     "data": {
      "text/plain": [
       "BayesSearchCV(cv=StratifiedKFold(n_splits=5, random_state=42, shuffle=True),\n",
       "              estimator=<tensorflow.python.keras.wrappers.scikit_learn.KerasClassifier object at 0x00000236785BFF98>,\n",
       "              n_iter=15, random_state=42, scoring='precision',\n",
       "              search_spaces={'dropout_rate': Real(low=0.2, high=0.7, prior='uniform', transform='normalize'),\n",
       "                             'hidden_units_1': Integer(low=32, high=256, prior='uniform', transform='normalize'),\n",
       "                             'hidden_units_2': Integer(low=32, high=256, prior='uniform', transform='normalize')},\n",
       "              verbose=1)"
      ]
     },
     "execution_count": 12,
     "metadata": {},
     "output_type": "execute_result"
    }
   ],
   "source": [
    "bayes_search.fit(X_train, y_train, sample_weight=sample_weights)"
   ]
  },
  {
   "cell_type": "code",
   "execution_count": 13,
   "id": "f3158293",
   "metadata": {},
   "outputs": [
    {
     "name": "stdout",
     "output_type": "stream",
     "text": [
      "Best parameters found:  OrderedDict([('dropout_rate', 0.7), ('hidden_units_1', 32), ('hidden_units_2', 256)])\n"
     ]
    }
   ],
   "source": [
    "# Getting the best parameters\n",
    "best_params = bayes_search.best_params_\n",
    "print(\"Best parameters found: \", best_params)"
   ]
  },
  {
   "cell_type": "code",
   "execution_count": 14,
   "id": "fe0b51bc",
   "metadata": {},
   "outputs": [],
   "source": [
    "# Fitting the best parameters into our model and compiling the model\n",
    "best_model = mlp_model(\n",
    "    hidden_units_1=best_params['hidden_units_1'], \n",
    "    hidden_units_2=best_params['hidden_units_2'], \n",
    "    dropout_rate=best_params['dropout_rate']\n",
    ")\n",
    "\n",
    "best_model.compile(optimizer='adam', loss='binary_crossentropy', metrics=metrics)"
   ]
  },
  {
   "cell_type": "code",
   "execution_count": 15,
   "id": "27b56ac8",
   "metadata": {},
   "outputs": [
    {
     "name": "stdout",
     "output_type": "stream",
     "text": [
      "WARNING:tensorflow:Falling back from v2 loop because of error: Failed to find data adapter that can handle input: <class 'pandas.core.frame.DataFrame'>, <class 'NoneType'>\n",
      "Train on 170884 samples, validate on 56961 samples\n",
      "Epoch 1/10\n",
      "170884/170884 [==============================] - 7s 40us/sample - loss: 1.1740 - accuracy: 0.8659 - precision: 0.0075 - recall: 0.5831 - f1_score: 0.0098 - roc_auc: 0.7320 - auprc: 0.1564 - matthews_correlation: 0.0302 - g_mean: 0.4990 - val_loss: 0.0988 - val_accuracy: 0.9933 - val_precision: 0.1987 - val_recall: 0.7946 - val_f1_score: 0.0183 - val_roc_auc: 0.9495 - val_auprc: 0.6392 - val_matthews_correlation: 0.2254 - val_g_mean: 0.7360\n",
      "Epoch 2/10\n",
      "170884/170884 [==============================] - 6s 32us/sample - loss: 0.4196 - accuracy: 0.8379 - precision: 0.0092 - recall: 0.8678 - f1_score: 0.0203 - roc_auc: 0.9226 - auprc: 0.2538 - matthews_correlation: 0.0477 - g_mean: 0.7834 - val_loss: 0.0969 - val_accuracy: 0.9879 - val_precision: 0.1237 - val_recall: 0.8482 - val_f1_score: 0.0216 - val_roc_auc: 0.9667 - val_auprc: 0.6799 - val_matthews_correlation: 0.2004 - val_g_mean: 0.8095\n",
      "Epoch 3/10\n",
      "170884/170884 [==============================] - 7s 43us/sample - loss: 0.3527 - accuracy: 0.8705 - precision: 0.0117 - recall: 0.8881 - f1_score: 0.0229 - roc_auc: 0.9336 - auprc: 0.2825 - matthews_correlation: 0.0534 - g_mean: 0.8258 - val_loss: 0.0673 - val_accuracy: 0.9938 - val_precision: 0.2170 - val_recall: 0.8214 - val_f1_score: 0.0243 - val_roc_auc: 0.9682 - val_auprc: 0.6713 - val_matthews_correlation: 0.2285 - val_g_mean: 0.8364\n",
      "Epoch 4/10\n",
      "170884/170884 [==============================] - 6s 38us/sample - loss: 0.3110 - accuracy: 0.8969 - precision: 0.0146 - recall: 0.8847 - f1_score: 0.0259 - roc_auc: 0.9507 - auprc: 0.3091 - matthews_correlation: 0.0633 - g_mean: 0.8459 - val_loss: 0.0695 - val_accuracy: 0.9928 - val_precision: 0.1967 - val_recall: 0.8571 - val_f1_score: 0.0269 - val_roc_auc: 0.9740 - val_auprc: 0.6858 - val_matthews_correlation: 0.2397 - val_g_mean: 0.8524\n",
      "Epoch 5/10\n",
      "170884/170884 [==============================] - 7s 42us/sample - loss: 0.2936 - accuracy: 0.9170 - precision: 0.0180 - recall: 0.8780 - f1_score: 0.0284 - roc_auc: 0.9505 - auprc: 0.3307 - matthews_correlation: 0.0704 - g_mean: 0.8582 - val_loss: 0.0727 - val_accuracy: 0.9941 - val_precision: 0.2302 - val_recall: 0.8571 - val_f1_score: 0.0296 - val_roc_auc: 0.9804 - val_auprc: 0.6945 - val_matthews_correlation: 0.2516 - val_g_mean: 0.8626\n",
      "Epoch 6/10\n",
      "170884/170884 [==============================] - 7s 41us/sample - loss: 0.2745 - accuracy: 0.9478 - precision: 0.0274 - recall: 0.8475 - f1_score: 0.0314 - roc_auc: 0.9574 - auprc: 0.3806 - matthews_correlation: 0.0856 - g_mean: 0.8665 - val_loss: 0.0599 - val_accuracy: 0.9944 - val_precision: 0.2405 - val_recall: 0.8482 - val_f1_score: 0.0330 - val_roc_auc: 0.9831 - val_auprc: 0.7017 - val_matthews_correlation: 0.2430 - val_g_mean: 0.8696\n",
      "Epoch 7/10\n",
      "170884/170884 [==============================] - 7s 42us/sample - loss: 0.2829 - accuracy: 0.9483 - precision: 0.0278 - recall: 0.8542 - f1_score: 0.0344 - roc_auc: 0.9581 - auprc: 0.4105 - matthews_correlation: 0.0894 - g_mean: 0.8724 - val_loss: 0.0513 - val_accuracy: 0.9956 - val_precision: 0.2853 - val_recall: 0.8125 - val_f1_score: 0.0358 - val_roc_auc: 0.9834 - val_auprc: 0.6914 - val_matthews_correlation: 0.2767 - val_g_mean: 0.8739\n",
      "Epoch 8/10\n",
      "170884/170884 [==============================] - 7s 41us/sample - loss: 0.2299 - accuracy: 0.9539 - precision: 0.0323 - recall: 0.8881 - f1_score: 0.0372 - roc_auc: 0.9634 - auprc: 0.4506 - matthews_correlation: 0.0962 - g_mean: 0.8770 - val_loss: 0.0557 - val_accuracy: 0.9938 - val_precision: 0.2220 - val_recall: 0.8661 - val_f1_score: 0.0386 - val_roc_auc: 0.9848 - val_auprc: 0.7060 - val_matthews_correlation: 0.2790 - val_g_mean: 0.8796\n",
      "Epoch 9/10\n",
      "170884/170884 [==============================] - 7s 38us/sample - loss: 0.3142 - accuracy: 0.9606 - precision: 0.0381 - recall: 0.8983 - f1_score: 0.0402 - roc_auc: 0.9592 - auprc: 0.4685 - matthews_correlation: 0.1088 - g_mean: 0.8831 - val_loss: 0.0392 - val_accuracy: 0.9945 - val_precision: 0.2423 - val_recall: 0.8393 - val_f1_score: 0.0415 - val_roc_auc: 0.9841 - val_auprc: 0.6984 - val_matthews_correlation: 0.2583 - val_g_mean: 0.8854\n",
      "Epoch 10/10\n",
      "170884/170884 [==============================] - 7s 42us/sample - loss: 0.2516 - accuracy: 0.9495 - precision: 0.0300 - recall: 0.9017 - f1_score: 0.0426 - roc_auc: 0.9627 - auprc: 0.3698 - matthews_correlation: 0.0932 - g_mean: 0.8872 - val_loss: 0.0544 - val_accuracy: 0.9932 - val_precision: 0.2055 - val_recall: 0.8661 - val_f1_score: 0.0436 - val_roc_auc: 0.9842 - val_auprc: 0.7102 - val_matthews_correlation: 0.2489 - val_g_mean: 0.8893\n"
     ]
    }
   ],
   "source": [
    "# Training the best model on training set \n",
    "history = best_model.fit(X_train, y_train, sample_weight=sample_weights, epochs=10, batch_size=256, validation_data=(X_val, y_val), verbose=1)"
   ]
  },
  {
   "cell_type": "markdown",
   "id": "9a0a71f1",
   "metadata": {},
   "source": [
    "## Validation Set Results"
   ]
  },
  {
   "cell_type": "code",
   "execution_count": 38,
   "id": "561cee37",
   "metadata": {},
   "outputs": [
    {
     "name": "stdout",
     "output_type": "stream",
     "text": [
      "WARNING:tensorflow:Falling back from v2 loop because of error: Failed to find data adapter that can handle input: <class 'pandas.core.frame.DataFrame'>, <class 'NoneType'>\n",
      "56961/56961 [==============================] - 2s 37us/sample - loss: 0.0544 - accuracy: 0.9932 - precision: 0.2055 - recall: 0.8661 - f1_score: 0.0481 - roc_auc: 0.9842 - auprc: 0.7102 - matthews_correlation: 0.0488 - g_mean: 0.8935\n",
      "[0.05442956103984736, 0.9931532, 0.20550847, 0.8660714, 0.048067156, 0.984228, 0.7101873, 0.048777495, 0.8934938]\n"
     ]
    }
   ],
   "source": [
    "# Evaluating the best model on validation set\n",
    "val_loss = best_model.evaluate(X_val, y_val)\n",
    "print(val_loss)"
   ]
  },
  {
   "cell_type": "code",
   "execution_count": 39,
   "id": "79df8dbf",
   "metadata": {},
   "outputs": [
    {
     "name": "stdout",
     "output_type": "stream",
     "text": [
      "WARNING:tensorflow:Falling back from v2 loop because of error: Failed to find data adapter that can handle input: <class 'pandas.core.frame.DataFrame'>, <class 'NoneType'>\n"
     ]
    }
   ],
   "source": [
    "y_pred_val = (best_model.predict(X_val) > 0.8).astype(int)\n",
    "y_pred_val = y_pred_val.flatten()\n",
    "\n",
    "# Calculating evaluation metrics on validation set\n",
    "val_accuracy = accuracy_score(y_val, y_pred_val)\n",
    "val_precision = precision_score(y_val, y_pred_val)\n",
    "val_recall = recall_score(y_val, y_pred_val)\n",
    "val_f1 = f1_score(y_val, y_pred_val)\n",
    "val_roc_auc = roc_auc_score(y_val, y_pred_val)\n",
    "val_pr_auc = average_precision_score(y_val, y_pred_val)\n",
    "val_mcc = matthews_corrcoef(y_val, y_pred_val)\n",
    "val_g_mean = geometric_mean_score(y_val, y_pred_val)\n",
    "val_cm = confusion_matrix(y_val, y_pred_val)"
   ]
  },
  {
   "cell_type": "code",
   "execution_count": 40,
   "id": "8fb88a15",
   "metadata": {},
   "outputs": [
    {
     "data": {
      "text/plain": [
       "{'Accuracy': 0.9982619687154369,\n",
       " 'Precision': 0.5384615384615384,\n",
       " 'Recall': 0.8125,\n",
       " 'F1 Score': <tf.Tensor: id=5791395, shape=(), dtype=float32, numpy=0.6476868>,\n",
       " 'ROC AUC Score': 0.9055639721015322,\n",
       " 'PR AUC': 0.4378686733027861,\n",
       " 'Matthews Correlation Coefficient': 0.6606521547897201,\n",
       " 'G-Mean': 0.900769229417274,\n",
       " 'Confusion Matrix': array([[56771,    78],\n",
       "        [   21,    91]], dtype=int64)}"
      ]
     },
     "execution_count": 40,
     "metadata": {},
     "output_type": "execute_result"
    }
   ],
   "source": [
    "val_results = {\n",
    "    'Accuracy': val_accuracy,\n",
    "    'Precision': val_precision,\n",
    "    'Recall': val_recall,\n",
    "    'F1 Score': val_f1,\n",
    "    'ROC AUC Score': val_roc_auc,\n",
    "    'PR AUC': val_pr_auc,\n",
    "    'Matthews Correlation Coefficient': val_mcc,\n",
    "    'G-Mean': val_g_mean,\n",
    "    'Confusion Matrix': val_cm\n",
    "}\n",
    "\n",
    "val_results"
   ]
  },
  {
   "cell_type": "markdown",
   "id": "412f8d4d",
   "metadata": {},
   "source": [
    "## Test Set Results"
   ]
  },
  {
   "cell_type": "code",
   "execution_count": 41,
   "id": "19c45012",
   "metadata": {},
   "outputs": [
    {
     "name": "stdout",
     "output_type": "stream",
     "text": [
      "WARNING:tensorflow:Falling back from v2 loop because of error: Failed to find data adapter that can handle input: <class 'pandas.core.frame.DataFrame'>, <class 'NoneType'>\n",
      "56962/56962 [==============================] - 2s 36us/sample - loss: 0.0523 - accuracy: 0.9933 - precision: 0.1663 - recall: 0.8706 - f1_score: 0.0490 - roc_auc: 0.9733 - auprc: 0.7354 - matthews_correlation: 0.0387 - g_mean: 0.8944\n",
      "[0.05229696114618019, 0.99329376, 0.16629213, 0.87058824, 0.04895423, 0.973268, 0.7353531, 0.03873907, 0.8943546]\n"
     ]
    }
   ],
   "source": [
    "# Evaluating the best model on test set\n",
    "test_results_ = best_model.evaluate(X_test, y_test)\n",
    "print(test_results_)"
   ]
  },
  {
   "cell_type": "code",
   "execution_count": 42,
   "id": "4395f08d",
   "metadata": {},
   "outputs": [
    {
     "name": "stdout",
     "output_type": "stream",
     "text": [
      "WARNING:tensorflow:Falling back from v2 loop because of error: Failed to find data adapter that can handle input: <class 'pandas.core.frame.DataFrame'>, <class 'NoneType'>\n"
     ]
    }
   ],
   "source": [
    "y_pred_test = (best_model.predict(X_test) > 0.8).astype(int)\n",
    "y_pred_test = y_pred_test.flatten()\n",
    "\n",
    "# Calculating evaluation metrics on test set\n",
    "test_accuracy = accuracy_score(y_test, y_pred_test)\n",
    "test_precision = precision_score(y_test, y_pred_test)\n",
    "test_recall = recall_score(y_test, y_pred_test)\n",
    "test_f1 = f1_score(y_test, y_pred_test)\n",
    "test_roc_auc = roc_auc_score(y_test, y_pred_test)\n",
    "test_pr_auc = average_precision_score(y_test, y_pred_test)\n",
    "test_mcc = matthews_corrcoef(y_test, y_pred_test)\n",
    "test_g_mean = geometric_mean_score(y_test, y_pred_test)\n",
    "test_cm = confusion_matrix(y_test, y_pred_test)"
   ]
  },
  {
   "cell_type": "code",
   "execution_count": 43,
   "id": "fdcdcb62",
   "metadata": {},
   "outputs": [
    {
     "data": {
      "text/plain": [
       "{'Accuracy': 0.99875355500158,\n",
       " 'Precision': 0.5538461538461539,\n",
       " 'Recall': 0.8470588235294118,\n",
       " 'F1 Score': <tf.Tensor: id=5814725, shape=(), dtype=float32, numpy=0.6697674>,\n",
       " 'ROC AUC Score': 0.923019539584387,\n",
       " 'PR AUC': 0.46936849381686707,\n",
       " 'Matthews Correlation Coefficient': 0.6843843681189254,\n",
       " 'G-Mean': 0.9198886019899306,\n",
       " 'Confusion Matrix': array([[56819,    58],\n",
       "        [   13,    72]], dtype=int64)}"
      ]
     },
     "execution_count": 43,
     "metadata": {},
     "output_type": "execute_result"
    }
   ],
   "source": [
    "test_results = {\n",
    "    'Accuracy': test_accuracy,\n",
    "    'Precision': test_precision,\n",
    "    'Recall': test_recall,\n",
    "    'F1 Score': test_f1,\n",
    "    'ROC AUC Score': test_roc_auc,\n",
    "    'PR AUC': test_pr_auc,\n",
    "    'Matthews Correlation Coefficient': test_mcc,\n",
    "    'G-Mean': test_g_mean,\n",
    "    'Confusion Matrix': test_cm\n",
    "}\n",
    "\n",
    "test_results"
   ]
  },
  {
   "cell_type": "markdown",
   "id": "54b8bf5f",
   "metadata": {},
   "source": [
    "## ROC - AUC"
   ]
  },
  {
   "cell_type": "code",
   "execution_count": 44,
   "id": "afcbdfc2",
   "metadata": {},
   "outputs": [
    {
     "name": "stdout",
     "output_type": "stream",
     "text": [
      "WARNING:tensorflow:Falling back from v2 loop because of error: Failed to find data adapter that can handle input: <class 'pandas.core.frame.DataFrame'>, <class 'NoneType'>\n"
     ]
    },
    {
     "data": {
      "image/png": "[encoded data removed]",
      "text/plain": [
       "<Figure size 1000x800 with 1 Axes>"
      ]
     },
     "metadata": {},
     "output_type": "display_data"
    }
   ],
   "source": [
    "y_pred_prob_test = best_model.predict(X_test)\n",
    "\n",
    "fpr, tpr, thresholds = roc_curve(y_test, y_pred_prob_test)\n",
    "roc_auc = auc(fpr, tpr)\n",
    "\n",
    "plt.figure(figsize=(10, 8))\n",
    "plt.plot(fpr, tpr, color='darkorange', lw=2, label='ROC curve (area = %0.2f)' % roc_auc)\n",
    "plt.plot([0, 1], [0, 1], color='navy', lw=2, linestyle='--')\n",
    "plt.xlabel('False Positive Rate')\n",
    "plt.ylabel('True Positive Rate')\n",
    "plt.title('Receiver Operating Characteristic (ROC) Curve')\n",
    "plt.legend(loc=\"lower right\")\n",
    "plt.grid(True)\n",
    "plt.show()"
   ]
  },
  {
   "cell_type": "markdown",
   "id": "1fb3d77c",
   "metadata": {},
   "source": [
    "## PR - AUC"
   ]
  },
  {
   "cell_type": "code",
   "execution_count": 47,
   "id": "506c558c",
   "metadata": {},
   "outputs": [
    {
     "data": {
      "image/png": "[encoded data removed]",
      "text/plain": [
       "<Figure size 800x600 with 1 Axes>"
      ]
     },
     "metadata": {},
     "output_type": "display_data"
    }
   ],
   "source": [
    "precision, recall, _ = precision_recall_curve(y_test, y_pred_prob_test)\n",
    "pr_auc = auc(recall, precision)\n",
    "\n",
    "plt.figure(figsize=(8, 6))\n",
    "plt.plot(recall, precision, color='navy', lw=2, label='PR curve (area = %0.2f)' % pr_auc)\n",
    "\n",
    "# Set the axis limits to start from 0\n",
    "plt.xlim([0.0, 1.0])\n",
    "plt.ylim([0.0, 1.0])\n",
    "\n",
    "plt.xlabel('Recall')\n",
    "plt.ylabel('Precision')\n",
    "plt.title('Precision-Recall Curve')\n",
    "plt.legend(loc=\"upper right\")\n",
    "plt.grid(True)\n",
    "plt.show()"
   ]
  },
  {
   "cell_type": "markdown",
   "id": "9301f1e9",
   "metadata": {},
   "source": [
    "## Confusion Matrix"
   ]
  },
  {
   "cell_type": "code",
   "execution_count": 48,
   "id": "ac056d08",
   "metadata": {},
   "outputs": [
    {
     "data": {
      "image/png": "[encoded data removed]",
      "text/plain": [
       "<Figure size 600x600 with 1 Axes>"
      ]
     },
     "metadata": {},
     "output_type": "display_data"
    }
   ],
   "source": [
    "plt.figure(figsize=(6, 6))\n",
    "sns.heatmap(confusion_matrix(y_test, y_pred_test), annot=True, fmt=\"d\", cmap=\"Blues\", cbar=False, \n",
    "            xticklabels=['Not Fraud (0)', 'Fraud (1)'], yticklabels=['Not Fraud (0)', 'Fraud (1)'])\n",
    "plt.xlabel('Predicted Label')\n",
    "plt.ylabel('True Label')\n",
    "plt.title('Confusion Matrix')\n",
    "plt.yticks(rotation=360)\n",
    "plt.show()"
   ]
  }
 ],
 "metadata": {
  "kernelspec": {
   "display_name": "Python 3 (ipykernel)",
   "language": "python",
   "name": "python3"
  },
  "language_info": {
   "codemirror_mode": {
    "name": "ipython",
    "version": 3
   },
   "file_extension": ".py",
   "mimetype": "text/x-python",
   "name": "python",
   "nbconvert_exporter": "python",
   "pygments_lexer": "ipython3",
   "version": "3.7.1"
  }
 },
 "nbformat": 4,
 "nbformat_minor": 5
}
